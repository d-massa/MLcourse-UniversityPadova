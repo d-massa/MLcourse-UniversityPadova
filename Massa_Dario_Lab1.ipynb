{
 "cells": [
  {
   "cell_type": "markdown",
   "id": "f53cb470-9006-4f3e-bda1-eaa4b174ddb6",
   "metadata": {
    "jp-MarkdownHeadingCollapsed": true,
    "tags": []
   },
   "source": [
    " # Machine Learning LAB 1\n",
    " Academic Year 2021/22, P. Zanuttigh, U. Michieli, F. Barbato, D. Shenaj, G. Rizzoli\n",
    "\n",
    "The notebook contains some simple tasks to be performed about classification and regression.\n",
    "\n",
    "**Student name**: Dario Massa<br>\n",
    "**ID Number**: 2039311"
   ]
  },
  {
   "cell_type": "markdown",
   "id": "9d8b2e1c-1844-4b21-bd80-7dbe5e76e64e",
   "metadata": {},
   "source": [
    "\n",
    "# 1) Classification of Music genre\n",
    "\n",
    "### Dataset description\n",
    "\n",
    "A music genre is a conventional category that identifies pieces of music as belonging to a shared tradition or set of conventions. It is to be distinguished from musical form and musical style. The features extracted from these songs can help the machine to assing them to the two genres. \n",
    "\n",
    "This dataset is a subset of the dataset provided [here](https://www.kaggle.com/insiyeah/musicfeatures), containing only the data regarding the classical and metal genres.\n",
    "\n",
    "### We consider 3 features for the classification\n",
    "\n",
    "1) **tempo**, the speed at which a passage of music is played, i.e., the beats per minute of the musical piece<br>\n",
    "2) **chroma_stft**, [mean chromagram activation on Short-Time Fourier Transform](https://librosa.org/doc/0.7.0/generated/librosa.feature.chroma_stft.html)<br>\n",
    "3) **spectral_centroid**, Indicates where the \"center of mass\" of the spectrum is located, i.e., it is the weighted average of the frequency transform<br>\n"
   ]
  },
  {
   "cell_type": "code",
   "execution_count": 1,
   "id": "21e8f357-bb66-43cc-b542-68c3ba0aa1a8",
   "metadata": {},
   "outputs": [],
   "source": [
    "%matplotlib inline\n",
    "import matplotlib.pyplot as plt\n",
    "import csv\n",
    "import os\n",
    "\n",
    "import numpy as np\n",
    "import scipy as sp\n",
    "import sklearn as sl\n",
    "import pandas as pd\n",
    "from scipy import stats\n",
    "from sklearn import datasets\n",
    "from sklearn import linear_model\n",
    "\n",
    "from pandas.plotting import scatter_matrix"
   ]
  },
  {
   "cell_type": "markdown",
   "id": "1487ee88-3d18-44af-91ac-1fb89982d5b9",
   "metadata": {},
   "source": [
    "## PERCEPTRON"
   ]
  },
  {
   "cell_type": "code",
   "execution_count": 2,
   "id": "5c5e2ab2-99fd-4f0f-a9f2-6af6755a6e8e",
   "metadata": {},
   "outputs": [],
   "source": [
    "IDnumber = 2039311 "
   ]
  },
  {
   "cell_type": "markdown",
   "id": "03903828-ee37-4e7b-bbc1-fc7bc0d312dc",
   "metadata": {},
   "source": [
    "\n",
    "**Loading the dataset**\n"
   ]
  },
  {
   "cell_type": "code",
   "execution_count": 3,
   "id": "a177aafa-1da4-4f56-8945-dd420f17f3ef",
   "metadata": {},
   "outputs": [],
   "source": [
    "PATH = \"./data\"\n",
    "\n",
    "def load_data(path=PATH):\n",
    "    csv_path = os.path.join(path, \"music.csv\")\n",
    "    return pd.read_csv(csv_path) \n",
    "\n",
    "music=load_data()\n",
    "\n",
    "music.label= 2*music.label-1     # for the perceptron classical--> -1, metal-->1"
   ]
  },
  {
   "cell_type": "markdown",
   "id": "dd132d57-67ca-49a8-88a5-76b1b0662795",
   "metadata": {},
   "source": [
    "\n",
    "**Let us have a look to it in multiple ways**\n"
   ]
  },
  {
   "cell_type": "code",
   "execution_count": 4,
   "id": "ce2766f9-a6c7-4b9b-b93c-2e63ccfec367",
   "metadata": {},
   "outputs": [
    {
     "data": {
      "text/html": [
       "<div>\n",
       "<style scoped>\n",
       "    .dataframe tbody tr th:only-of-type {\n",
       "        vertical-align: middle;\n",
       "    }\n",
       "\n",
       "    .dataframe tbody tr th {\n",
       "        vertical-align: top;\n",
       "    }\n",
       "\n",
       "    .dataframe thead th {\n",
       "        text-align: right;\n",
       "    }\n",
       "</style>\n",
       "<table border=\"1\" class=\"dataframe\">\n",
       "  <thead>\n",
       "    <tr style=\"text-align: right;\">\n",
       "      <th></th>\n",
       "      <th>tempo</th>\n",
       "      <th>chroma_stft</th>\n",
       "      <th>spectral_centroid</th>\n",
       "      <th>label</th>\n",
       "    </tr>\n",
       "  </thead>\n",
       "  <tbody>\n",
       "    <tr>\n",
       "      <th>0</th>\n",
       "      <td>92.285156</td>\n",
       "      <td>0.223738</td>\n",
       "      <td>2192.798091</td>\n",
       "      <td>-1</td>\n",
       "    </tr>\n",
       "    <tr>\n",
       "      <th>1</th>\n",
       "      <td>161.499023</td>\n",
       "      <td>0.284173</td>\n",
       "      <td>1534.064978</td>\n",
       "      <td>-1</td>\n",
       "    </tr>\n",
       "    <tr>\n",
       "      <th>2</th>\n",
       "      <td>143.554688</td>\n",
       "      <td>0.208113</td>\n",
       "      <td>1396.824265</td>\n",
       "      <td>-1</td>\n",
       "    </tr>\n",
       "    <tr>\n",
       "      <th>3</th>\n",
       "      <td>95.703125</td>\n",
       "      <td>0.312900</td>\n",
       "      <td>1680.088264</td>\n",
       "      <td>-1</td>\n",
       "    </tr>\n",
       "    <tr>\n",
       "      <th>4</th>\n",
       "      <td>123.046875</td>\n",
       "      <td>0.258572</td>\n",
       "      <td>1173.658308</td>\n",
       "      <td>-1</td>\n",
       "    </tr>\n",
       "  </tbody>\n",
       "</table>\n",
       "</div>"
      ],
      "text/plain": [
       "        tempo  chroma_stft  spectral_centroid  label\n",
       "0   92.285156     0.223738        2192.798091     -1\n",
       "1  161.499023     0.284173        1534.064978     -1\n",
       "2  143.554688     0.208113        1396.824265     -1\n",
       "3   95.703125     0.312900        1680.088264     -1\n",
       "4  123.046875     0.258572        1173.658308     -1"
      ]
     },
     "execution_count": 4,
     "metadata": {},
     "output_type": "execute_result"
    }
   ],
   "source": [
    "music.head()"
   ]
  },
  {
   "cell_type": "code",
   "execution_count": 5,
   "id": "8d00eb3f-0b57-4643-9f90-e305eaa71193",
   "metadata": {},
   "outputs": [
    {
     "name": "stdout",
     "output_type": "stream",
     "text": [
      "<class 'pandas.core.frame.DataFrame'>\n",
      "RangeIndex: 200 entries, 0 to 199\n",
      "Data columns (total 4 columns):\n",
      " #   Column             Non-Null Count  Dtype  \n",
      "---  ------             --------------  -----  \n",
      " 0   tempo              200 non-null    float64\n",
      " 1   chroma_stft        200 non-null    float64\n",
      " 2   spectral_centroid  200 non-null    float64\n",
      " 3   label              200 non-null    int64  \n",
      "dtypes: float64(3), int64(1)\n",
      "memory usage: 6.4 KB\n"
     ]
    }
   ],
   "source": [
    "music.info()"
   ]
  },
  {
   "cell_type": "code",
   "execution_count": 6,
   "id": "8c17062c-b44c-445a-906d-6177d7887c4c",
   "metadata": {},
   "outputs": [
    {
     "data": {
      "text/html": [
       "<div>\n",
       "<style scoped>\n",
       "    .dataframe tbody tr th:only-of-type {\n",
       "        vertical-align: middle;\n",
       "    }\n",
       "\n",
       "    .dataframe tbody tr th {\n",
       "        vertical-align: top;\n",
       "    }\n",
       "\n",
       "    .dataframe thead th {\n",
       "        text-align: right;\n",
       "    }\n",
       "</style>\n",
       "<table border=\"1\" class=\"dataframe\">\n",
       "  <thead>\n",
       "    <tr style=\"text-align: right;\">\n",
       "      <th></th>\n",
       "      <th>tempo</th>\n",
       "      <th>chroma_stft</th>\n",
       "      <th>spectral_centroid</th>\n",
       "      <th>label</th>\n",
       "    </tr>\n",
       "  </thead>\n",
       "  <tbody>\n",
       "    <tr>\n",
       "      <th>count</th>\n",
       "      <td>200.000000</td>\n",
       "      <td>200.000000</td>\n",
       "      <td>200.000000</td>\n",
       "      <td>200.000000</td>\n",
       "    </tr>\n",
       "    <tr>\n",
       "      <th>mean</th>\n",
       "      <td>126.321578</td>\n",
       "      <td>0.371369</td>\n",
       "      <td>1978.083397</td>\n",
       "      <td>0.000000</td>\n",
       "    </tr>\n",
       "    <tr>\n",
       "      <th>std</th>\n",
       "      <td>29.336878</td>\n",
       "      <td>0.118268</td>\n",
       "      <td>720.685022</td>\n",
       "      <td>1.002509</td>\n",
       "    </tr>\n",
       "    <tr>\n",
       "      <th>min</th>\n",
       "      <td>61.523438</td>\n",
       "      <td>0.181161</td>\n",
       "      <td>690.075902</td>\n",
       "      <td>-1.000000</td>\n",
       "    </tr>\n",
       "    <tr>\n",
       "      <th>25%</th>\n",
       "      <td>103.359375</td>\n",
       "      <td>0.261238</td>\n",
       "      <td>1347.129607</td>\n",
       "      <td>-1.000000</td>\n",
       "    </tr>\n",
       "    <tr>\n",
       "      <th>50%</th>\n",
       "      <td>123.046875</td>\n",
       "      <td>0.379629</td>\n",
       "      <td>2008.928539</td>\n",
       "      <td>0.000000</td>\n",
       "    </tr>\n",
       "    <tr>\n",
       "      <th>75%</th>\n",
       "      <td>143.554688</td>\n",
       "      <td>0.477488</td>\n",
       "      <td>2683.416292</td>\n",
       "      <td>1.000000</td>\n",
       "    </tr>\n",
       "    <tr>\n",
       "      <th>max</th>\n",
       "      <td>234.907670</td>\n",
       "      <td>0.636205</td>\n",
       "      <td>3403.101905</td>\n",
       "      <td>1.000000</td>\n",
       "    </tr>\n",
       "  </tbody>\n",
       "</table>\n",
       "</div>"
      ],
      "text/plain": [
       "            tempo  chroma_stft  spectral_centroid       label\n",
       "count  200.000000   200.000000         200.000000  200.000000\n",
       "mean   126.321578     0.371369        1978.083397    0.000000\n",
       "std     29.336878     0.118268         720.685022    1.002509\n",
       "min     61.523438     0.181161         690.075902   -1.000000\n",
       "25%    103.359375     0.261238        1347.129607   -1.000000\n",
       "50%    123.046875     0.379629        2008.928539    0.000000\n",
       "75%    143.554688     0.477488        2683.416292    1.000000\n",
       "max    234.907670     0.636205        3403.101905    1.000000"
      ]
     },
     "execution_count": 6,
     "metadata": {},
     "output_type": "execute_result"
    }
   ],
   "source": [
    "music.describe()"
   ]
  },
  {
   "cell_type": "code",
   "execution_count": 7,
   "id": "dc56fb2f-0484-4be5-9ac6-0eee0dbf43aa",
   "metadata": {},
   "outputs": [
    {
     "data": {
      "image/png": "[encoded data removed]",
      "text/plain": [
       "<Figure size 1440x1080 with 4 Axes>"
      ]
     },
     "metadata": {
      "needs_background": "light"
     },
     "output_type": "display_data"
    }
   ],
   "source": [
    "music.hist(bins=50, figsize=(20,15))\n",
    "plt.show()"
   ]
  },
  {
   "cell_type": "code",
   "execution_count": 8,
   "id": "588e187f-fb2e-4911-abf5-e6c87dca2e3f",
   "metadata": {},
   "outputs": [
    {
     "data": {
      "text/plain": [
       "<seaborn.axisgrid.PairGrid at 0x7fb5a371c520>"
      ]
     },
     "execution_count": 8,
     "metadata": {},
     "output_type": "execute_result"
    },
    {
     "data": {
      "image/png": "[encoded data removed]",
      "text/plain": [
       "<Figure size 864x576 with 9 Axes>"
      ]
     },
     "metadata": {},
     "output_type": "display_data"
    },
    {
     "data": {
      "image/png": "[encoded data removed]",
      "text/plain": [
       "<Figure size 589.475x540 with 12 Axes>"
      ]
     },
     "metadata": {},
     "output_type": "display_data"
    }
   ],
   "source": [
    "import seaborn as sns\n",
    "\n",
    "sns.set(style=\"ticks\", color_codes=True)\n",
    "\n",
    "attributes = [\"tempo\",\"chroma_stft\",\"spectral_centroid\"]\n",
    "\n",
    "scatter_matrix(music[attributes], figsize=(12, 8))\n",
    "\n",
    "sns.pairplot(music, hue=\"label\")"
   ]
  },
  {
   "cell_type": "markdown",
   "id": "0729ea2e-ce78-44b2-bced-2ea57ad117fc",
   "metadata": {},
   "source": [
    "**From these plots I can already visually quantify the separation/overlap between the involved variables. Tempo displays strong overlap**"
   ]
  },
  {
   "cell_type": "markdown",
   "id": "852c785c-37dd-4123-b5cf-a82bd3cab663",
   "metadata": {},
   "source": [
    "Let's split in **training** and **test** sets"
   ]
  },
  {
   "cell_type": "code",
   "execution_count": 9,
   "id": "11268ca7-bdea-4c77-b2b8-9c2e1ed3c4be",
   "metadata": {},
   "outputs": [
    {
     "name": "stdout",
     "output_type": "stream",
     "text": [
      "Here's the length of the training set: 150\n",
      "Here's the length of the test set: 50\n",
      "\n",
      "Number of classical instances in test: 20\n",
      "Number of metal instances in test: 30\n",
      "Shape of training set: (150, 4)\n",
      "Shape of test set: (50, 4)\n"
     ]
    }
   ],
   "source": [
    "def splitter(totalset, percentage): \n",
    "    \n",
    "    np.random.seed(2039311)\n",
    "    shuffling = np.random.permutation(len(totalset)) \n",
    "    \n",
    "    test_set_size = int(len(totalset) * percentage) \n",
    "    \n",
    "    test_indices = shuffling[:test_set_size]     \n",
    "    train_indices = shuffling[test_set_size:] \n",
    "    \n",
    "    return totalset.iloc[train_indices], totalset.iloc[test_indices]\n",
    "\n",
    "train_set, test_set = splitter(music, 0.25)\n",
    "\n",
    "print(\"Here's the length of the training set:\",len(train_set))\n",
    "print(\"Here's the length of the test set:\",len(test_set))\n",
    "print(\"\\nNumber of classical instances in test:\", np.sum(test_set.label==-1))\n",
    "print(\"Number of metal instances in test:\", np.sum(test_set.label==1))\n",
    "\n",
    "print(\"Shape of training set: \" + str(train_set.shape))\n",
    "print(\"Shape of test set: \" + str(test_set.shape))"
   ]
  },
  {
   "cell_type": "code",
   "execution_count": 10,
   "id": "2a6ae3eb-e223-4578-a332-364361027455",
   "metadata": {},
   "outputs": [],
   "source": [
    "# Add a 1 to each sample (homogeneous coordinates)\n",
    "train_set = np.hstack((np.ones((len(train_set),1)),train_set))\n",
    "test_set = np.hstack((np.ones((len(test_set),1)),test_set))"
   ]
  },
  {
   "cell_type": "code",
   "execution_count": 11,
   "id": "43a19dfe-2216-4584-a7dc-fc63801edb07",
   "metadata": {},
   "outputs": [
    {
     "name": "stdout",
     "output_type": "stream",
     "text": [
      "Training set in homogeneous coordinates:\n",
      "[[ 1.00000000e+00  1.43554688e+02  2.34085778e-01  1.27961458e+03\n",
      "  -1.00000000e+00]\n",
      " [ 1.00000000e+00  1.43554688e+02  2.17626991e-01  7.89601607e+02\n",
      "  -1.00000000e+00]\n",
      " [ 1.00000000e+00  1.43554688e+02  2.67353394e-01  1.11822751e+03\n",
      "  -1.00000000e+00]\n",
      " [ 1.00000000e+00  9.93840144e+01  2.61489298e-01  1.37282581e+03\n",
      "  -1.00000000e+00]]\n"
     ]
    }
   ],
   "source": [
    "print(\"Training set in homogeneous coordinates:\")\n",
    "print(train_set[:4])"
   ]
  },
  {
   "cell_type": "markdown",
   "id": "cbc290ae-0a93-47fc-96b1-c7b02cad9d3e",
   "metadata": {},
   "source": [
    "**TO DO** Now complete the function *perceptron*. Since the perceptron does not terminate if the data is not linearly separable, your implementation should return the desired output (see below) if it reached the termination condition seen in class or if a maximum number of iterations have already been run, where one iteration corresponds to one update of the perceptron weights. In case the termination is reached because the maximum number of iterations have been completed, the implementation should return **the best model** seen up to now.\n",
    "\n",
    "The input parameters to pass are:\n",
    "- $X$: the matrix of input features, one row for each sample\n",
    "- $Y$: the vector of labels for the input features matrix X\n",
    "- $max\\_num\\_iterations$: the maximum number of iterations for running the perceptron\n",
    "\n",
    "The output values are:\n",
    "- $best\\_w$: the vector with the coefficients of the best model\n",
    "- $best\\_error$: the *fraction* of misclassified samples for the best model"
   ]
  },
  {
   "cell_type": "code",
   "execution_count": 12,
   "id": "41a809d5-9af2-424d-bd46-8ed76bde9bf2",
   "metadata": {},
   "outputs": [
    {
     "data": {
      "text/plain": [
       "(150, 4)"
      ]
     },
     "execution_count": 12,
     "metadata": {},
     "output_type": "execute_result"
    }
   ],
   "source": [
    "X = train_set[:,:-1]\n",
    "X.shape"
   ]
  },
  {
   "cell_type": "code",
   "execution_count": 13,
   "id": "a12015d5-2ecf-4ac3-a9c6-a5b54528593e",
   "metadata": {},
   "outputs": [
    {
     "data": {
      "text/plain": [
       "(150, 1)"
      ]
     },
     "execution_count": 13,
     "metadata": {},
     "output_type": "execute_result"
    }
   ],
   "source": [
    "Y = train_set[:,-1:]\n",
    "Y.shape"
   ]
  },
  {
   "cell_type": "code",
   "execution_count": 14,
   "id": "7d518847-a8e1-43b9-9065-be6be0dd7397",
   "metadata": {},
   "outputs": [
    {
     "data": {
      "text/plain": [
       "(4,)"
      ]
     },
     "execution_count": 14,
     "metadata": {},
     "output_type": "execute_result"
    }
   ],
   "source": [
    "curr_w = np.zeros(4)\n",
    "curr_w.shape"
   ]
  },
  {
   "cell_type": "code",
   "execution_count": 15,
   "id": "a0d6c014-a548-4c71-9c4e-603149ead378",
   "metadata": {},
   "outputs": [],
   "source": [
    "def perceptron_search(current_w, x, y):\n",
    "    \n",
    "    if ( y*np.dot(current_w,x) ) <= 0.0:\n",
    "        \n",
    "        miscl = 1 \n",
    "    \n",
    "    else: \n",
    "        \n",
    "        miscl = 0\n",
    "    \n",
    "    return miscl\n",
    "\n",
    "def perceptron_update(current_w, x, y):\n",
    "    \n",
    "    if ( y*np.dot(x,current_w) ) <= 0.0:\n",
    "        \n",
    "        new_w = current_w + x*y\n",
    "\n",
    "        return new_w\n",
    "    \n",
    "    else: \n",
    "        \n",
    "        return current_w\n",
    "    \n",
    "def perceptron_test(best_w, X, Y):\n",
    "\n",
    "    num_samples = len(X)\n",
    "    index_misclassified = []\n",
    "    num_misclassified = 0 \n",
    "    \n",
    "    for i in range(num_samples):\n",
    "\n",
    "        x = X[i,:]\n",
    "        y = Y[i,:]\n",
    "\n",
    "        misclassified = perceptron_search(best_w,x,y)\n",
    "\n",
    "        if (misclassified == 1):\n",
    "\n",
    "            index_misclassified = np.append(index_misclassified,i)  \n",
    "            num_misclassified += 1 \n",
    "\n",
    "\n",
    "    error = num_misclassified \n",
    "\n",
    "    error_percent = (error / num_samples)*100\n",
    "    \n",
    "    return error_percent\n",
    "\n",
    "def perceptron(X, Y, max_num_iterations):\n",
    "    \n",
    "    curr_w = np.zeros(4) # considering also the dummy 1 variable of homog. coord.s\n",
    "\n",
    "    best_w = curr_w\n",
    "    num_samples = len(X)\n",
    "\n",
    "    num_iter = 1\n",
    "    \n",
    "    error=150 #fake\n",
    "    best_error=0\n",
    "\n",
    "    vector_best_errors=[]\n",
    "    vector_best_solutions=[]\n",
    "    vector_best_iter = []\n",
    "    \n",
    "    while ((error==0) or (num_iter < max_num_iterations)):\n",
    "        \n",
    "        index_misclassified = []\n",
    "        num_misclassified = 0 \n",
    "\n",
    "    # first I want to find out which and how many indexes are misclassified \n",
    "    # how many indexes are misclassified is the current error\n",
    "    \n",
    "        #old_error = error\n",
    "        #old_w = curr_w\n",
    "      \n",
    "        \n",
    "        for i in range(num_samples):\n",
    "        \n",
    "            x = X[i,:]\n",
    "            y = Y[i,:]\n",
    "    \n",
    "            misclassified = perceptron_search(curr_w,x,y)\n",
    "\n",
    "            if (misclassified == 1):\n",
    "\n",
    "                index_misclassified = np.append(index_misclassified,i)  \n",
    "                num_misclassified += 1 \n",
    "        \n",
    "        \n",
    "        error = num_misclassified \n",
    "        \n",
    "        error_percent = (error / num_samples)*100\n",
    "        \n",
    "        if error_percent < 50.0:\n",
    "            \n",
    "            vector_best_errors = np.append(vector_best_errors,error)\n",
    "            vector_best_solutions = np.append(vector_best_solutions,curr_w)\n",
    "            vector_best_iter = np.append(vector_best_iter,num_iter)\n",
    "            \n",
    "        #print(\"-------\")\n",
    "        #print(\"PERCEPTRON ALGORITHM\")\n",
    "        #print(\"-------\")\n",
    "        #print(\"\")\n",
    "        #print(\"Here follow the misclassified samples indexes:\",index_misclassified)\n",
    "        #print(\"\")\n",
    "        #print(\"and the current error:\", error)\n",
    "        #print(\"\")\n",
    "        \n",
    "        # second, I shuffle over these indexes and select the corresponding random missclassified sample \n",
    "        \n",
    "        shuffling = np.random.permutation(index_misclassified) \n",
    "        #print(shuffling)\n",
    "        rand = int(shuffling[4])\n",
    " \n",
    "        #print(\"\")\n",
    "        #print(\"random choice:\",rand)\n",
    "        #print(\"\")\n",
    "        #print(\"\")    \n",
    "        \n",
    "        x = X[rand,:]\n",
    "        y = Y[rand,:]\n",
    "                           \n",
    "        # update rule of w \n",
    "        \n",
    "        curr_w = perceptron_update(curr_w,x,y)\n",
    "        \n",
    "        num_iter += 1\n",
    "    \n",
    "        #print(\"\")\n",
    "        #print(\"resulting coordinates vector:\",curr_w)\n",
    "        #print(\"\")\n",
    "        #print(\"number of iter:\",num_iter)    \n",
    "    \n",
    "#    best_error = error\n",
    "    \n",
    "    return best_w, best_error, vector_best_solutions, vector_best_errors, vector_best_iter"
   ]
  },
  {
   "cell_type": "markdown",
   "id": "e798efa3-44c7-46aa-a4ad-3ed1b0ba7f6d",
   "metadata": {},
   "source": [
    "**TO DO** use the best model $w\\_found$ to predict the labels for the test dataset and print the fraction of misclassified samples in the test set (the test error that is an estimate of the true loss)."
   ]
  },
  {
   "cell_type": "code",
   "execution_count": 16,
   "id": "804006e0-0231-41ff-b82d-38d4ccf07e28",
   "metadata": {},
   "outputs": [
    {
     "name": "stdout",
     "output_type": "stream",
     "text": [
      "-------\n",
      "END OF PERCEPTRON ALGORITHM\n",
      "-------\n",
      "The best solution has been obtained at iteration: 84 of 100\n",
      "-------\n",
      "with error and error%: 52.0 34.66666666666667\n",
      "-------\n",
      "and coefficients: -25.0 -3516.4135482602464 -0.18229563526111975 417.868231019972\n"
     ]
    }
   ],
   "source": [
    "vector_best_errors=[]\n",
    "vector_best_solutions=[]\n",
    "vector_best_iter = []\n",
    "num_iter = 100\n",
    "best_w, best_error, vector_best_solutions, vector_best_errors, vector_best_iter = perceptron(X, Y, num_iter)\n",
    "\n",
    "#print (best_w, best_error)\n",
    "#print (vector_best_solutions,vector_best_errors, vector_best_iter)\n",
    "\n",
    "best_index = np.where(vector_best_errors == vector_best_errors.min())\n",
    "#best_index = np.asarray(best_index)\n",
    "min_index = best_index[0]\n",
    "#print (min_index[0])\n",
    "\n",
    "print(\"-------\")\n",
    "print(\"END OF PERCEPTRON ALGORITHM\")\n",
    "print(\"-------\")\n",
    "print(\"The best solution has been obtained at iteration:\", int(vector_best_iter[min_index[0]]),\"of\",num_iter)\n",
    "print(\"-------\")\n",
    "print(\"with error and error%:\", vector_best_errors[min_index[0]],100*(vector_best_errors[min_index[0]]/len(X)) )\n",
    "print(\"-------\")\n",
    "print(\"and coefficients:\", vector_best_solutions[4*min_index[0]],vector_best_solutions[4*min_index[0]+1],vector_best_solutions[4*min_index[0]+2],vector_best_solutions[4*min_index[0]+3])"
   ]
  },
  {
   "cell_type": "markdown",
   "id": "c24cb5dc-ca29-4a0e-bd20-78a3b7e33b5b",
   "metadata": {},
   "source": [
    "**EVALUATION OF PERFORMANCES: TEST SET**"
   ]
  },
  {
   "cell_type": "code",
   "execution_count": 17,
   "id": "8b389d92-04d8-401a-ade4-9871b39b5668",
   "metadata": {},
   "outputs": [
    {
     "name": "stdout",
     "output_type": "stream",
     "text": [
      "[-2.50000000e+01 -3.51641355e+03 -1.82295635e-01  4.17868231e+02]\n",
      "(50, 4)\n",
      "(50, 1)\n",
      "-------\n",
      "END OF TESTING OF PERCEPTRON ALGORITHM\n",
      "-------\n",
      "The best solution on test set brings error%: 34.0\n"
     ]
    }
   ],
   "source": [
    "best_solution=np.array([vector_best_solutions[4*min_index[0]],vector_best_solutions[4*min_index[0]+1],vector_best_solutions[4*min_index[0]+2],vector_best_solutions[4*min_index[0]+3]])\n",
    "print(best_solution)\n",
    "\n",
    "X = test_set[:,:-1]\n",
    "print(X.shape)\n",
    "\n",
    "Y = test_set[:,-1:]\n",
    "print(Y.shape)\n",
    "\n",
    "test_result = perceptron_test(best_solution,X,Y)\n",
    "\n",
    "print(\"-------\")\n",
    "print(\"END OF TESTING OF PERCEPTRON ALGORITHM\")\n",
    "print(\"-------\")\n",
    "print(\"The best solution on test set brings error%:\",test_result)\n"
   ]
  },
  {
   "cell_type": "markdown",
   "id": "0ba47b67-ca16-4aa1-9d7e-6635abf0f6f7",
   "metadata": {},
   "source": [
    "**TO DO** **[Answer the following]** What about the difference betweeen the training error and the test error  in terms of fraction of misclassified samples)? Explain what you observe. [Write the answer in this cell]\n",
    "\n",
    "**ANSWER QUESTION 1**\n",
    "Since the number of iterations is too small, the training of the algorithm on the training set S is not sufficient in order to gain small training errors (i.e. <20%). Nevertheless, it is observed that the test error is very close. This close distancing could be explained with a clear absence of a proper training, which makes the training set less familiar to the algorithm, and therefore less dissimilar from a disjoint test set. \n",
    "\n"
   ]
  },
  {
   "cell_type": "markdown",
   "id": "9f9a7854-521c-4450-94a3-f731376932e2",
   "metadata": {},
   "source": [
    "**TO DO** Copy the code from the last 2 cells above in the cell below and repeat the training with 4000 iterations. Then print the error in the training set and the estimate of the true loss obtained from the test set."
   ]
  },
  {
   "cell_type": "code",
   "execution_count": 18,
   "id": "e5ccc43a-5d8b-45a3-98fb-42580e741fbb",
   "metadata": {},
   "outputs": [
    {
     "name": "stdout",
     "output_type": "stream",
     "text": [
      "(150, 4)\n",
      "(150, 1)\n",
      "-------\n",
      "END OF PERCEPTRON ALGORITHM\n",
      "-------\n",
      "The best solution has been obtained at iteration: 144 of 4000\n",
      "-------\n",
      "with error and error%: 16.0 10.666666666666668\n",
      "-------\n",
      "and coefficients: -47.0 -6449.71908179146 -1.8999067152083107 395.65478245492204\n"
     ]
    }
   ],
   "source": [
    "X = train_set[:,:-1]\n",
    "print(X.shape)\n",
    "\n",
    "Y = train_set[:,-1:]\n",
    "print(Y.shape)\n",
    "\n",
    "vector_best_errors=[]\n",
    "vector_best_solutions=[]\n",
    "vector_best_iter = []\n",
    "num_iter = 4000\n",
    "best_w, best_error, vector_best_solutions, vector_best_errors, vector_best_iter = perceptron(X, Y, num_iter)\n",
    "\n",
    "#print (best_w, best_error)\n",
    "#print (vector_best_solutions,vector_best_errors, vector_best_iter)\n",
    "\n",
    "best_index = np.where(vector_best_errors == vector_best_errors.min())\n",
    "#best_index = np.asarray(best_index)\n",
    "min_index = best_index[0]\n",
    "#print (min_index[0])\n",
    "\n",
    "print(\"-------\")\n",
    "print(\"END OF PERCEPTRON ALGORITHM\")\n",
    "print(\"-------\")\n",
    "print(\"The best solution has been obtained at iteration:\", int(vector_best_iter[min_index[0]]),\"of\",num_iter)\n",
    "print(\"-------\")\n",
    "print(\"with error and error%:\", vector_best_errors[min_index[0]],100*(vector_best_errors[min_index[0]]/len(X)) )\n",
    "print(\"-------\")\n",
    "print(\"and coefficients:\", vector_best_solutions[4*min_index[0]],vector_best_solutions[4*min_index[0]+1],vector_best_solutions[4*min_index[0]+2],vector_best_solutions[4*min_index[0]+3])"
   ]
  },
  {
   "cell_type": "markdown",
   "id": "7521d182-423a-422c-af61-089ae5c5d621",
   "metadata": {},
   "source": [
    "**EVALUATION OF PERFORMANCES: TEST SET**"
   ]
  },
  {
   "cell_type": "code",
   "execution_count": 19,
   "id": "b14e160f-dbb5-4b1b-a6df-cbe542b3c4dc",
   "metadata": {},
   "outputs": [
    {
     "name": "stdout",
     "output_type": "stream",
     "text": [
      "(50, 4)\n",
      "(50, 1)\n",
      "-------\n",
      "END OF TESTING OF PERCEPTRON ALGORITHM\n",
      "-------\n",
      "The best solution on test set brings error%: 16.0\n"
     ]
    }
   ],
   "source": [
    "best_solution=np.array([vector_best_solutions[4*min_index[0]],vector_best_solutions[4*min_index[0]+1],vector_best_solutions[4*min_index[0]+2],vector_best_solutions[4*min_index[0]+3]])\n",
    "#print(best_solution)\n",
    "\n",
    "X = test_set[:,:-1]\n",
    "print(X.shape)\n",
    "\n",
    "Y = test_set[:,-1:]\n",
    "print(Y.shape)\n",
    "\n",
    "test_result = perceptron_test(best_solution,X,Y)\n",
    "\n",
    "print(\"-------\")\n",
    "print(\"END OF TESTING OF PERCEPTRON ALGORITHM\")\n",
    "print(\"-------\")\n",
    "print(\"The best solution on test set brings error%:\",test_result)\n"
   ]
  },
  {
   "cell_type": "markdown",
   "id": "1c75ee3b-0a0a-4ee5-a1f8-075ad4c1fb6c",
   "metadata": {},
   "source": [
    "**TO DO** [Answer the following] What about the difference betweeen the training error and the test error  in terms of fraction of misclassified samples) when running for a larger number of iterations ? Explain what you observe and compare with the previous case. [Write the answer in this cell]\n",
    "\n",
    "**ANSWER QUESTION 2**\n",
    "\n",
    "The performances on the test set have revealed a greater error, of 16.0% with respect to the 10.7% obtained in the training set. This was somehow an expected result: the algorithm is trained on the training set S, which is relatively small, in order to find the optimal solution (predictor, ERM solution) h_w_S, and of course lead to relatively smaller training errors L_s; however, the optimal predictor is such over S, and not over the whole domain; this is why the errors are expected to raise, and the disjointed test set is a way of challanging its generalization ability, obtaining an estimate of the true error L_D. Of course this is just an estimate, since the samples we are dealing with do not cover the full domain and we do not know the distribution D.\n",
    "It should be noted that the distancing between the training and test error, in this case of 4000 iterations, is larger than the distancing in the 100 case. \n",
    "This is somehow a product of the fact that a longer training certainly can lead to lower training and test errors, but also to learn the data. Although \" learning from the data \" is often associated to overfitting, this is not the case since the model is characterized by the needed low complexity. What I suppose is happening is that the algorithm is properly learning the ERM solution with the right amount of iterations (a proof of that is the fact that multiple degenerate ERM solutions are found) and, as it is supposed to be, is learning the data shaping what it is used to and what it is not used to classify. If we underfit with an extremely low number of iterations, the difference between what is known and what is not known is more blurred, therefore L_s and L_D are nearer, but both higher."
   ]
  },
  {
   "cell_type": "markdown",
   "id": "4f8638b1-4aea-42f0-a8d1-1698adc261da",
   "metadata": {},
   "source": [
    "# Logistic Regression\n",
    "Now we use logistic regression, exploiting the implementation in Scikit-learn, to predict labels. We will also plot the decision region of logistic regression.\n",
    "\n",
    "We first load the dataset again."
   ]
  },
  {
   "cell_type": "code",
   "execution_count": 20,
   "id": "2dcfd9e6-a528-40d3-8284-819baac45fa7",
   "metadata": {},
   "outputs": [
    {
     "name": "stdout",
     "output_type": "stream",
     "text": [
      "Here's the length of the training set: 150\n",
      "Here's the length of the test set: 50\n",
      "\n",
      "Number of classical instances in test: 20\n",
      "Number of metal instances in test: 30\n",
      "Shape of training set: (150, 4)\n",
      "Shape of test set: (50, 4)\n"
     ]
    }
   ],
   "source": [
    "PATH = \"./data\"\n",
    "\n",
    "def load_data(path=PATH):\n",
    "    csv_path = os.path.join(path, \"music.csv\")\n",
    "    return pd.read_csv(csv_path) \n",
    "\n",
    "music=load_data()\n",
    "\n",
    "music.label= 2*music.label-1     # for the perceptron classical--> -1, metal-->1\n",
    "\n",
    "def splitter(totalset, percentage): \n",
    "    \n",
    "    np.random.seed(2039311)\n",
    "    shuffling = np.random.permutation(len(totalset)) \n",
    "    \n",
    "    test_set_size = int(len(totalset) * percentage) \n",
    "    \n",
    "    test_indices = shuffling[:test_set_size]     \n",
    "    train_indices = shuffling[test_set_size:] \n",
    "    \n",
    "    return totalset.iloc[train_indices], totalset.iloc[test_indices]\n",
    "\n",
    "train_set, test_set = splitter(music, 0.25)\n",
    "\n",
    "print(\"Here's the length of the training set:\",len(train_set))\n",
    "print(\"Here's the length of the test set:\",len(test_set))\n",
    "print(\"\\nNumber of classical instances in test:\", np.sum(test_set.label==-1))\n",
    "print(\"Number of metal instances in test:\", np.sum(test_set.label==1))\n",
    "\n",
    "print(\"Shape of training set: \" + str(train_set.shape))\n",
    "print(\"Shape of test set: \" + str(test_set.shape))\n",
    "\n",
    "# Add a 1 to each sample (homogeneous coordinates)\n",
    "train_set = np.hstack((np.ones((len(train_set),1)),train_set))\n",
    "test_set = np.hstack((np.ones((len(test_set),1)),test_set))"
   ]
  },
  {
   "cell_type": "markdown",
   "id": "1da90b84-e4d2-42f0-a208-0596746bed43",
   "metadata": {},
   "source": [
    "To define a logistic regression model in Scikit-learn use the instruction\n",
    "\n",
    "$linear\\_model.LogisticRegression(C=1e5)$\n",
    "\n",
    "($C$ is a parameter related to *regularization*, a technique that\n",
    "we will see later in the course. Setting it to a high value is almost\n",
    "as ignoring regularization, so the instruction above corresponds to the\n",
    "logistic regression you have seen in class.)\n",
    "\n",
    "To learn the model you need to use the $fit(...)$ instruction and to predict you need to use the $predict(...)$ function. See the Scikit-learn documentation for how to use it.\n",
    "\n",
    "**TO DO** Define the logistic regression model, then learn the model using the training set and predict on the test set. Then print the fraction of samples misclassified in the training set and in the test set."
   ]
  },
  {
   "cell_type": "code",
   "execution_count": 21,
   "id": "1b3f8eef-8afe-4c55-87e5-1b24cf925a2d",
   "metadata": {},
   "outputs": [
    {
     "name": "stdout",
     "output_type": "stream",
     "text": [
      "(150, 2)\n",
      "(150,)\n",
      "[[78  2]\n",
      " [ 2 68]]\n",
      "Error rate on training set: 0.026666666666666616\n",
      "(50, 2)\n",
      "(50,)\n",
      "[[19  0]\n",
      " [ 1 30]]\n",
      "Error rate on test set: 0.020000000000000018\n"
     ]
    }
   ],
   "source": [
    "from sklearn import metrics\n",
    "\n",
    "#part on logistic regression for 2 classes\n",
    "logreg = linear_model.LogisticRegression(C=1e5,fit_intercept=True) #a large C disables regularization\n",
    "\n",
    "#learn from training set\n",
    "\n",
    "X = train_set[:,1:3]\n",
    "print(X.shape)\n",
    "\n",
    "Y = train_set[:,-1]\n",
    "print(Y.shape)\n",
    "\n",
    "logreg.fit(X,Y)\n",
    "\n",
    "#predict on training set\n",
    "\n",
    "y_pred_train=logreg.predict(X)\n",
    "\n",
    "score = logreg.score(X,Y)\n",
    "\n",
    "cnf_matrix = metrics.confusion_matrix(y_pred_train,Y)\n",
    "print(cnf_matrix)\n",
    "\n",
    "#print the error rate = fraction of misclassified samples\n",
    "error_rate_training = 1-score\n",
    "\n",
    "# PLACE YOUR CODE\n",
    "\n",
    "print(\"Error rate on training set: \"+str(error_rate_training))\n",
    "\n",
    "#predict on test set\n",
    "\n",
    "X = test_set[:,1:3]\n",
    "print(X.shape)\n",
    "\n",
    "Y = test_set[:,-1]\n",
    "print(Y.shape)\n",
    "\n",
    "y_pred_test=logreg.predict(X)\n",
    "\n",
    "cnf_matrix = metrics.confusion_matrix(y_pred_test,Y)\n",
    "print(cnf_matrix)\n",
    "\n",
    "score = logreg.score(X,Y.ravel())\n",
    "\n",
    "#print(logreg.intercept_)\n",
    "#print(logreg.coef_)\n",
    "\n",
    "#print the error rate = fraction of misclassified samples\n",
    "error_rate_test = 1-score\n",
    "\n",
    "# PLACE YOUR CODE\n",
    "\n",
    "print(\"Error rate on test set: \" + str(error_rate_test))"
   ]
  },
  {
   "cell_type": "markdown",
   "id": "b352ad97-8eda-4250-96c0-446c9925267a",
   "metadata": {},
   "source": [
    "**TO DO** Now pick two features and restrict the dataset to include only two features, whose indices are specified in the $feature$ vector below. Then split into training and test. Which features are you going to select ?"
   ]
  },
  {
   "cell_type": "markdown",
   "id": "bc677124-f863-4c78-9dad-21b7261c037b",
   "metadata": {},
   "source": [
    "Basing on the scatter matrix plots in the upper part of this notebook, it is clear that the 'tempo' variable is a more negative feature in terms of the classification with respect to the others: when it is involved, the forming clusters tend to have a bit of overlap, and this could be due to the fact that the two genre of music can also share similar values of tempo (it is visible from the first plot in the matrix, an histogram of the tempo feature for the two genres). In the cases in which the other two features are involved instead, a nicer separation is achieved. Therefore 'chroma_stft', 'spectral_centroid' will be hereafter considered. "
   ]
  },
  {
   "cell_type": "code",
   "execution_count": 22,
   "id": "236dcca9-3c33-40c6-bfef-895b79c9f9a4",
   "metadata": {},
   "outputs": [
    {
     "name": "stdout",
     "output_type": "stream",
     "text": [
      "(150, 1)\n",
      "(150,)\n",
      "[[77  1]\n",
      " [ 3 69]]\n",
      "Error rate on training set: 0.026666666666666616\n",
      "(50, 1)\n",
      "(50,)\n",
      "[[19  0]\n",
      " [ 1 30]]\n",
      "[-20.0183421]\n",
      "[[54.47974105]]\n",
      "Error rate on test set: 0.020000000000000018\n"
     ]
    }
   ],
   "source": [
    "X = train_set[:,2:3]\n",
    "print(X.shape)\n",
    "\n",
    "Y = train_set[:,-1]\n",
    "print(Y.shape)\n",
    "\n",
    "logreg.fit(X,Y)\n",
    "\n",
    "#predict on training set\n",
    "\n",
    "y_pred_train=logreg.predict(X)\n",
    "\n",
    "score = logreg.score(X,Y)\n",
    "\n",
    "cnf_matrix = metrics.confusion_matrix(y_pred_train,Y)\n",
    "print(cnf_matrix)\n",
    "\n",
    "#print the error rate = fraction of misclassified samples\n",
    "error_rate_training = 1-score\n",
    "\n",
    "# PLACE YOUR CODE\n",
    "\n",
    "print(\"Error rate on training set: \"+str(error_rate_training))\n",
    "\n",
    "#predict on test set\n",
    "\n",
    "X = test_set[:,2:3]\n",
    "print(X.shape)\n",
    "\n",
    "Y = test_set[:,-1]\n",
    "print(Y.shape)\n",
    "\n",
    "y_pred_test=logreg.predict(X)\n",
    "\n",
    "cnf_matrix = metrics.confusion_matrix(y_pred_test,Y)\n",
    "print(cnf_matrix)\n",
    "\n",
    "score = logreg.score(X,Y.ravel())\n",
    "\n",
    "print(logreg.intercept_)\n",
    "print(logreg.coef_)\n",
    "\n",
    "#print the error rate = fraction of misclassified samples\n",
    "error_rate_test = 1-score\n",
    "\n",
    "# PLACE YOUR CODE\n",
    "\n",
    "print(\"Error rate on test set: \" + str(error_rate_test))"
   ]
  },
  {
   "cell_type": "markdown",
   "id": "d06f3105-d98e-4dc3-bfa5-5d179ab2f75a",
   "metadata": {},
   "source": [
    "**TO DO** [Answer the following] Which features did you select and why ? Compare the perfromances with the ones of the case with all the 3 features and comment about the results. [Write the answer in this cell]\n",
    "\n",
    "**ANSWER QUESTION 3**\n",
    "The first question has been answered in *ANSWER QUESTION 2*. The performances in the case of just 2 features considered are actually the same from the point of view of the error rate. With closer look, on the training set, when 3 features are considered the error is symmetrical (2 misclassified samples for each class), while becomes asymmetrical in the case of 2 features selected, although conserving the total error. In the test set instead nothing changes between the two cases. "
   ]
  },
  {
   "cell_type": "code",
   "execution_count": 23,
   "id": "d94c5a31-6f2f-46ca-a585-849ae4b1a65f",
   "metadata": {},
   "outputs": [
    {
     "data": {
      "image/png": "[encoded data removed]",
      "text/plain": [
       "<Figure size 432x288 with 1 Axes>"
      ]
     },
     "metadata": {},
     "output_type": "display_data"
    },
    {
     "data": {
      "image/png": "[encoded data removed]",
      "text/plain": [
       "<Figure size 432x288 with 1 Axes>"
      ]
     },
     "metadata": {},
     "output_type": "display_data"
    },
    {
     "data": {
      "image/png": "[encoded data removed]",
      "text/plain": [
       "<Figure size 432x288 with 1 Axes>"
      ]
     },
     "metadata": {},
     "output_type": "display_data"
    },
    {
     "data": {
      "image/png": "[encoded data removed]",
      "text/plain": [
       "<Figure size 432x288 with 1 Axes>"
      ]
     },
     "metadata": {},
     "output_type": "display_data"
    }
   ],
   "source": [
    "# Plot the decision boundary. For that, we will assign a color to each\n",
    "# point in the mesh [x_min, x_max]x[y_min, y_max].\n",
    "\n",
    "# NOTICE: This visualization code has been developed for a \"standard\" solution of the notebook, \n",
    "# it could be necessary to make some fixes to adapt to your implementation\n",
    "\n",
    "#plt.pcolormesh(train_set[:, 2], train_set[:, 3], train_set[:, -1], cmap=plt.cm.Paired)\n",
    "\n",
    "plt.scatter(train_set[:, 2], train_set[:, 3], c=train_set[:, -1], edgecolors='k', cmap=plt.cm.Paired, marker='s')\n",
    "plt.xlabel(\"chroma_stft\")\n",
    "plt.ylabel(\"spectral_centroid\")\n",
    "plt.title('Training set without prediction')\n",
    "plt.show()\n",
    "\n",
    "plt.scatter(train_set[:, 2], train_set[:, 3], c=y_pred_train, edgecolors='k', cmap=plt.cm.Paired, marker='s')\n",
    "plt.xlabel(\"chroma_stft\")\n",
    "plt.ylabel(\"spectral_centroid\")\n",
    "plt.title('Training set with prediction')\n",
    "plt.show()\n",
    "\n",
    "plt.scatter(test_set[:, 2], test_set[:, 3], c=test_set[:, -1], edgecolors='k', cmap=plt.cm.Paired, marker='s')\n",
    "plt.xlabel(\"chroma_stft\")\n",
    "plt.ylabel(\"spectral_centroid\")\n",
    "plt.title('Test set without prediction')\n",
    "plt.show()\n",
    "\n",
    "plt.scatter(test_set[:, 2], test_set[:, 3], c=y_pred_test, edgecolors='k', cmap=plt.cm.Paired, marker='s')\n",
    "plt.xlabel(\"chroma_stft\")\n",
    "plt.ylabel(\"spectral_centroid\")\n",
    "plt.title('Test set with prediction')\n",
    "plt.show()\n"
   ]
  },
  {
   "cell_type": "markdown",
   "id": "0363da2c-d677-4643-9c88-4fd98980b36a",
   "metadata": {},
   "source": [
    "# 2) Linear Regression on the Boston House Price dataset\n",
    "\n",
    "### Dataset description: \n",
    "\n",
    "The Boston House Price Dataset involves the prediction of a house price in thousands of dollars given details about the house and its neighborhood.\n",
    "\n",
    "The dataset contains a total of 500 observations, which relate 13 input features to an output variable (house price).\n",
    "\n",
    "The variable names are as follows:\n",
    "\n",
    "CRIM: per capita crime rate by town.\n",
    "\n",
    "ZN: proportion of residential land zoned for lots over 25,000 sq.ft.\n",
    "\n",
    "INDUS: proportion of nonretail business acres per town.\n",
    "\n",
    "CHAS: Charles River dummy variable (= 1 if tract bounds river; 0 otherwise).\n",
    "\n",
    "NOX: nitric oxides concentration (parts per 10 million).\n",
    "\n",
    "RM: average number of rooms per dwelling.\n",
    "\n",
    "AGE: proportion of owner-occupied units built prior to 1940.\n",
    "\n",
    "DIS: weighted distances to five Boston employment centers.\n",
    "\n",
    "RAD: index of accessibility to radial highways.\n",
    "\n",
    "TAX: full-value property-tax rate per $10,000.\n",
    "\n",
    "PTRATIO: pupil-teacher ratio by town.\n",
    "\n",
    "B: 1000*(Bk – 0.63)2 where Bk is the proportion of blacks by town.\n",
    "\n",
    "LSTAT: % lower status of the population.\n",
    "\n",
    "MEDV: Median value of owner-occupied homes in $1000s.\n",
    "    "
   ]
  },
  {
   "cell_type": "markdown",
   "id": "5ea1a787-0e17-45da-ab41-8def9859328a",
   "metadata": {},
   "source": [
    "**Importing the needed stuff**"
   ]
  },
  {
   "cell_type": "code",
   "execution_count": 24,
   "id": "22bcc24b-4483-480a-ae93-e5de0229dad0",
   "metadata": {},
   "outputs": [],
   "source": [
    "%matplotlib inline\n",
    "import matplotlib.pyplot as plt\n",
    "import csv\n",
    "import os\n",
    "\n",
    "import numpy as np\n",
    "import scipy as sp\n",
    "import sklearn as sl\n",
    "import pandas as pd\n",
    "from scipy import stats\n",
    "from sklearn import datasets\n",
    "from sklearn import linear_model\n",
    "\n",
    "from pandas.plotting import scatter_matrix\n",
    "\n",
    "PATH = \"./data\"\n",
    "\n",
    "def load_data(path=PATH):\n",
    "    csv_path = os.path.join(path, \"house.csv\")\n",
    "    return pd.read_csv(csv_path, sep=';') \n",
    "\n",
    "house=load_data()\n",
    "\n"
   ]
  },
  {
   "cell_type": "markdown",
   "id": "aac89c61-9a08-4f42-853a-3cd477aba8d5",
   "metadata": {},
   "source": [
    "**Let's have a look to data in different ways**"
   ]
  },
  {
   "cell_type": "code",
   "execution_count": 25,
   "id": "15c695ad-3d3d-4ed6-b4e5-a12a2b364fb0",
   "metadata": {},
   "outputs": [
    {
     "data": {
      "text/html": [
       "<div>\n",
       "<style scoped>\n",
       "    .dataframe tbody tr th:only-of-type {\n",
       "        vertical-align: middle;\n",
       "    }\n",
       "\n",
       "    .dataframe tbody tr th {\n",
       "        vertical-align: top;\n",
       "    }\n",
       "\n",
       "    .dataframe thead th {\n",
       "        text-align: right;\n",
       "    }\n",
       "</style>\n",
       "<table border=\"1\" class=\"dataframe\">\n",
       "  <thead>\n",
       "    <tr style=\"text-align: right;\">\n",
       "      <th></th>\n",
       "      <th>CRIM</th>\n",
       "      <th>ZN</th>\n",
       "      <th>INDUS</th>\n",
       "      <th>CHAS</th>\n",
       "      <th>NOX</th>\n",
       "      <th>RM</th>\n",
       "      <th>AGE</th>\n",
       "      <th>DIS</th>\n",
       "      <th>RAD</th>\n",
       "      <th>TAX</th>\n",
       "      <th>PTRATIO</th>\n",
       "      <th>B</th>\n",
       "      <th>LSTAT</th>\n",
       "      <th>MEDV</th>\n",
       "    </tr>\n",
       "  </thead>\n",
       "  <tbody>\n",
       "    <tr>\n",
       "      <th>0</th>\n",
       "      <td>0.00632</td>\n",
       "      <td>18.0</td>\n",
       "      <td>2.31</td>\n",
       "      <td>0</td>\n",
       "      <td>0.538</td>\n",
       "      <td>6.575</td>\n",
       "      <td>65.2</td>\n",
       "      <td>4.0900</td>\n",
       "      <td>1</td>\n",
       "      <td>296</td>\n",
       "      <td>15.3</td>\n",
       "      <td>396.90</td>\n",
       "      <td>4.98</td>\n",
       "      <td>240</td>\n",
       "    </tr>\n",
       "    <tr>\n",
       "      <th>1</th>\n",
       "      <td>0.02731</td>\n",
       "      <td>0.0</td>\n",
       "      <td>7.07</td>\n",
       "      <td>0</td>\n",
       "      <td>0.469</td>\n",
       "      <td>6.421</td>\n",
       "      <td>78.9</td>\n",
       "      <td>4.9671</td>\n",
       "      <td>2</td>\n",
       "      <td>242</td>\n",
       "      <td>17.8</td>\n",
       "      <td>396.90</td>\n",
       "      <td>9.14</td>\n",
       "      <td>216</td>\n",
       "    </tr>\n",
       "    <tr>\n",
       "      <th>2</th>\n",
       "      <td>0.02729</td>\n",
       "      <td>0.0</td>\n",
       "      <td>7.07</td>\n",
       "      <td>0</td>\n",
       "      <td>0.469</td>\n",
       "      <td>7.185</td>\n",
       "      <td>61.1</td>\n",
       "      <td>4.9671</td>\n",
       "      <td>2</td>\n",
       "      <td>242</td>\n",
       "      <td>17.8</td>\n",
       "      <td>392.83</td>\n",
       "      <td>4.03</td>\n",
       "      <td>347</td>\n",
       "    </tr>\n",
       "    <tr>\n",
       "      <th>3</th>\n",
       "      <td>0.03237</td>\n",
       "      <td>0.0</td>\n",
       "      <td>2.18</td>\n",
       "      <td>0</td>\n",
       "      <td>0.458</td>\n",
       "      <td>6.998</td>\n",
       "      <td>45.8</td>\n",
       "      <td>6.0622</td>\n",
       "      <td>3</td>\n",
       "      <td>222</td>\n",
       "      <td>18.7</td>\n",
       "      <td>394.63</td>\n",
       "      <td>2.94</td>\n",
       "      <td>334</td>\n",
       "    </tr>\n",
       "    <tr>\n",
       "      <th>4</th>\n",
       "      <td>0.06905</td>\n",
       "      <td>0.0</td>\n",
       "      <td>2.18</td>\n",
       "      <td>0</td>\n",
       "      <td>0.458</td>\n",
       "      <td>7.147</td>\n",
       "      <td>54.2</td>\n",
       "      <td>6.0622</td>\n",
       "      <td>3</td>\n",
       "      <td>222</td>\n",
       "      <td>18.7</td>\n",
       "      <td>396.90</td>\n",
       "      <td>5.33</td>\n",
       "      <td>362</td>\n",
       "    </tr>\n",
       "  </tbody>\n",
       "</table>\n",
       "</div>"
      ],
      "text/plain": [
       "      CRIM    ZN  INDUS  CHAS    NOX     RM   AGE     DIS  RAD  TAX  PTRATIO  \\\n",
       "0  0.00632  18.0   2.31     0  0.538  6.575  65.2  4.0900    1  296     15.3   \n",
       "1  0.02731   0.0   7.07     0  0.469  6.421  78.9  4.9671    2  242     17.8   \n",
       "2  0.02729   0.0   7.07     0  0.469  7.185  61.1  4.9671    2  242     17.8   \n",
       "3  0.03237   0.0   2.18     0  0.458  6.998  45.8  6.0622    3  222     18.7   \n",
       "4  0.06905   0.0   2.18     0  0.458  7.147  54.2  6.0622    3  222     18.7   \n",
       "\n",
       "        B  LSTAT  MEDV  \n",
       "0  396.90   4.98   240  \n",
       "1  396.90   9.14   216  \n",
       "2  392.83   4.03   347  \n",
       "3  394.63   2.94   334  \n",
       "4  396.90   5.33   362  "
      ]
     },
     "execution_count": 25,
     "metadata": {},
     "output_type": "execute_result"
    }
   ],
   "source": [
    "house.head()"
   ]
  },
  {
   "cell_type": "code",
   "execution_count": 26,
   "id": "0ba2b279-6175-425b-80ec-83e9783f0650",
   "metadata": {},
   "outputs": [
    {
     "name": "stdout",
     "output_type": "stream",
     "text": [
      "<class 'pandas.core.frame.DataFrame'>\n",
      "RangeIndex: 500 entries, 0 to 499\n",
      "Data columns (total 14 columns):\n",
      " #   Column   Non-Null Count  Dtype  \n",
      "---  ------   --------------  -----  \n",
      " 0   CRIM     500 non-null    float64\n",
      " 1   ZN       500 non-null    float64\n",
      " 2   INDUS    500 non-null    float64\n",
      " 3   CHAS     500 non-null    int64  \n",
      " 4   NOX      500 non-null    float64\n",
      " 5   RM       500 non-null    float64\n",
      " 6   AGE      500 non-null    float64\n",
      " 7   DIS      500 non-null    float64\n",
      " 8   RAD      500 non-null    int64  \n",
      " 9   TAX      500 non-null    int64  \n",
      " 10  PTRATIO  500 non-null    float64\n",
      " 11  B        500 non-null    float64\n",
      " 12  LSTAT    500 non-null    float64\n",
      " 13  MEDV     500 non-null    int64  \n",
      "dtypes: float64(10), int64(4)\n",
      "memory usage: 54.8 KB\n"
     ]
    }
   ],
   "source": [
    "house.info()"
   ]
  },
  {
   "cell_type": "code",
   "execution_count": 27,
   "id": "f4028ee8-f317-4dc0-bb9a-f7b5e8fb40e1",
   "metadata": {},
   "outputs": [
    {
     "data": {
      "text/html": [
       "<div>\n",
       "<style scoped>\n",
       "    .dataframe tbody tr th:only-of-type {\n",
       "        vertical-align: middle;\n",
       "    }\n",
       "\n",
       "    .dataframe tbody tr th {\n",
       "        vertical-align: top;\n",
       "    }\n",
       "\n",
       "    .dataframe thead th {\n",
       "        text-align: right;\n",
       "    }\n",
       "</style>\n",
       "<table border=\"1\" class=\"dataframe\">\n",
       "  <thead>\n",
       "    <tr style=\"text-align: right;\">\n",
       "      <th></th>\n",
       "      <th>CRIM</th>\n",
       "      <th>ZN</th>\n",
       "      <th>INDUS</th>\n",
       "      <th>CHAS</th>\n",
       "      <th>NOX</th>\n",
       "      <th>RM</th>\n",
       "      <th>AGE</th>\n",
       "      <th>DIS</th>\n",
       "      <th>RAD</th>\n",
       "      <th>TAX</th>\n",
       "      <th>PTRATIO</th>\n",
       "      <th>B</th>\n",
       "      <th>LSTAT</th>\n",
       "      <th>MEDV</th>\n",
       "    </tr>\n",
       "  </thead>\n",
       "  <tbody>\n",
       "    <tr>\n",
       "      <th>count</th>\n",
       "      <td>500.000000</td>\n",
       "      <td>500.000000</td>\n",
       "      <td>500.000000</td>\n",
       "      <td>500.000000</td>\n",
       "      <td>500.000000</td>\n",
       "      <td>500.000000</td>\n",
       "      <td>500.000000</td>\n",
       "      <td>500.000000</td>\n",
       "      <td>500.000000</td>\n",
       "      <td>500.000000</td>\n",
       "      <td>500.000000</td>\n",
       "      <td>500.000000</td>\n",
       "      <td>500.000000</td>\n",
       "      <td>500.000000</td>\n",
       "    </tr>\n",
       "    <tr>\n",
       "      <th>mean</th>\n",
       "      <td>3.655786</td>\n",
       "      <td>11.500000</td>\n",
       "      <td>11.131740</td>\n",
       "      <td>0.070000</td>\n",
       "      <td>0.554451</td>\n",
       "      <td>6.282970</td>\n",
       "      <td>68.424600</td>\n",
       "      <td>3.811932</td>\n",
       "      <td>9.642000</td>\n",
       "      <td>409.624000</td>\n",
       "      <td>18.428600</td>\n",
       "      <td>356.208040</td>\n",
       "      <td>12.698740</td>\n",
       "      <td>225.680000</td>\n",
       "    </tr>\n",
       "    <tr>\n",
       "      <th>std</th>\n",
       "      <td>8.644375</td>\n",
       "      <td>23.428739</td>\n",
       "      <td>6.900712</td>\n",
       "      <td>0.255403</td>\n",
       "      <td>0.116550</td>\n",
       "      <td>0.705421</td>\n",
       "      <td>28.272145</td>\n",
       "      <td>2.112591</td>\n",
       "      <td>8.715604</td>\n",
       "      <td>168.998579</td>\n",
       "      <td>2.162553</td>\n",
       "      <td>91.741874</td>\n",
       "      <td>7.164928</td>\n",
       "      <td>92.357075</td>\n",
       "    </tr>\n",
       "    <tr>\n",
       "      <th>min</th>\n",
       "      <td>0.006320</td>\n",
       "      <td>0.000000</td>\n",
       "      <td>0.460000</td>\n",
       "      <td>0.000000</td>\n",
       "      <td>0.385000</td>\n",
       "      <td>3.561000</td>\n",
       "      <td>2.900000</td>\n",
       "      <td>1.129600</td>\n",
       "      <td>1.000000</td>\n",
       "      <td>187.000000</td>\n",
       "      <td>12.600000</td>\n",
       "      <td>0.320000</td>\n",
       "      <td>1.730000</td>\n",
       "      <td>50.000000</td>\n",
       "    </tr>\n",
       "    <tr>\n",
       "      <th>25%</th>\n",
       "      <td>0.082598</td>\n",
       "      <td>0.000000</td>\n",
       "      <td>5.130000</td>\n",
       "      <td>0.000000</td>\n",
       "      <td>0.448750</td>\n",
       "      <td>5.883000</td>\n",
       "      <td>44.225000</td>\n",
       "      <td>2.087875</td>\n",
       "      <td>4.000000</td>\n",
       "      <td>281.000000</td>\n",
       "      <td>17.225000</td>\n",
       "      <td>375.085000</td>\n",
       "      <td>6.990000</td>\n",
       "      <td>170.750000</td>\n",
       "    </tr>\n",
       "    <tr>\n",
       "      <th>50%</th>\n",
       "      <td>0.266005</td>\n",
       "      <td>0.000000</td>\n",
       "      <td>9.125000</td>\n",
       "      <td>0.000000</td>\n",
       "      <td>0.538000</td>\n",
       "      <td>6.208500</td>\n",
       "      <td>77.150000</td>\n",
       "      <td>3.267450</td>\n",
       "      <td>5.000000</td>\n",
       "      <td>330.000000</td>\n",
       "      <td>19.000000</td>\n",
       "      <td>391.305000</td>\n",
       "      <td>11.430000</td>\n",
       "      <td>212.000000</td>\n",
       "    </tr>\n",
       "    <tr>\n",
       "      <th>75%</th>\n",
       "      <td>3.694070</td>\n",
       "      <td>12.500000</td>\n",
       "      <td>18.100000</td>\n",
       "      <td>0.000000</td>\n",
       "      <td>0.624000</td>\n",
       "      <td>6.620500</td>\n",
       "      <td>94.100000</td>\n",
       "      <td>5.214600</td>\n",
       "      <td>24.000000</td>\n",
       "      <td>666.000000</td>\n",
       "      <td>20.200000</td>\n",
       "      <td>396.157500</td>\n",
       "      <td>17.092500</td>\n",
       "      <td>250.000000</td>\n",
       "    </tr>\n",
       "    <tr>\n",
       "      <th>max</th>\n",
       "      <td>88.976200</td>\n",
       "      <td>100.000000</td>\n",
       "      <td>27.740000</td>\n",
       "      <td>1.000000</td>\n",
       "      <td>0.871000</td>\n",
       "      <td>8.780000</td>\n",
       "      <td>100.000000</td>\n",
       "      <td>12.126500</td>\n",
       "      <td>24.000000</td>\n",
       "      <td>711.000000</td>\n",
       "      <td>22.000000</td>\n",
       "      <td>396.900000</td>\n",
       "      <td>37.970000</td>\n",
       "      <td>500.000000</td>\n",
       "    </tr>\n",
       "  </tbody>\n",
       "</table>\n",
       "</div>"
      ],
      "text/plain": [
       "             CRIM          ZN       INDUS        CHAS         NOX          RM  \\\n",
       "count  500.000000  500.000000  500.000000  500.000000  500.000000  500.000000   \n",
       "mean     3.655786   11.500000   11.131740    0.070000    0.554451    6.282970   \n",
       "std      8.644375   23.428739    6.900712    0.255403    0.116550    0.705421   \n",
       "min      0.006320    0.000000    0.460000    0.000000    0.385000    3.561000   \n",
       "25%      0.082598    0.000000    5.130000    0.000000    0.448750    5.883000   \n",
       "50%      0.266005    0.000000    9.125000    0.000000    0.538000    6.208500   \n",
       "75%      3.694070   12.500000   18.100000    0.000000    0.624000    6.620500   \n",
       "max     88.976200  100.000000   27.740000    1.000000    0.871000    8.780000   \n",
       "\n",
       "              AGE         DIS         RAD         TAX     PTRATIO           B  \\\n",
       "count  500.000000  500.000000  500.000000  500.000000  500.000000  500.000000   \n",
       "mean    68.424600    3.811932    9.642000  409.624000   18.428600  356.208040   \n",
       "std     28.272145    2.112591    8.715604  168.998579    2.162553   91.741874   \n",
       "min      2.900000    1.129600    1.000000  187.000000   12.600000    0.320000   \n",
       "25%     44.225000    2.087875    4.000000  281.000000   17.225000  375.085000   \n",
       "50%     77.150000    3.267450    5.000000  330.000000   19.000000  391.305000   \n",
       "75%     94.100000    5.214600   24.000000  666.000000   20.200000  396.157500   \n",
       "max    100.000000   12.126500   24.000000  711.000000   22.000000  396.900000   \n",
       "\n",
       "            LSTAT        MEDV  \n",
       "count  500.000000  500.000000  \n",
       "mean    12.698740  225.680000  \n",
       "std      7.164928   92.357075  \n",
       "min      1.730000   50.000000  \n",
       "25%      6.990000  170.750000  \n",
       "50%     11.430000  212.000000  \n",
       "75%     17.092500  250.000000  \n",
       "max     37.970000  500.000000  "
      ]
     },
     "execution_count": 27,
     "metadata": {},
     "output_type": "execute_result"
    }
   ],
   "source": [
    "house.describe()"
   ]
  },
  {
   "cell_type": "code",
   "execution_count": 28,
   "id": "cef2b2d7-371c-405a-9c3a-3e38719254a4",
   "metadata": {},
   "outputs": [
    {
     "data": {
      "text/plain": [
       "array([[<AxesSubplot:xlabel='CRIM', ylabel='CRIM'>,\n",
       "        <AxesSubplot:xlabel='ZN', ylabel='CRIM'>,\n",
       "        <AxesSubplot:xlabel='INDUS', ylabel='CRIM'>],\n",
       "       [<AxesSubplot:xlabel='CRIM', ylabel='ZN'>,\n",
       "        <AxesSubplot:xlabel='ZN', ylabel='ZN'>,\n",
       "        <AxesSubplot:xlabel='INDUS', ylabel='ZN'>],\n",
       "       [<AxesSubplot:xlabel='CRIM', ylabel='INDUS'>,\n",
       "        <AxesSubplot:xlabel='ZN', ylabel='INDUS'>,\n",
       "        <AxesSubplot:xlabel='INDUS', ylabel='INDUS'>]], dtype=object)"
      ]
     },
     "execution_count": 28,
     "metadata": {},
     "output_type": "execute_result"
    },
    {
     "data": {
      "image/png": "[encoded data removed]",
      "text/plain": [
       "<Figure size 432x288 with 9 Axes>"
      ]
     },
     "metadata": {
      "needs_background": "light"
     },
     "output_type": "display_data"
    }
   ],
   "source": [
    "attributes = [\"CRIM\",\"ZN\",\"INDUS\"]\n",
    "\n",
    "scatter_matrix(house[attributes], figsize=(6, 4))"
   ]
  },
  {
   "cell_type": "markdown",
   "id": "3d55e8e2-e21e-4d2c-a720-b3d5cc084588",
   "metadata": {},
   "source": [
    "# Split data in training and test sets\n",
    "\n",
    "\n",
    "\n",
    "Given $m$ total data, denote with $m_{t}$ the part used for training. Keep $m_t$ data as training data, and $m_{test}:= m-m_{t}$. For instance one can take $m_t=0.7m$ of the data as training and $m_{test}=0.3m$ as testing. Let us define as define\n",
    "\n",
    "$\\bullet$ $S_{t}$ the training data set\n",
    "\n",
    "$\\bullet$ $S_{test}$ the testing data set\n",
    "\n",
    "\n",
    "The reason for this splitting is as follows:\n",
    "\n",
    "TRAINING DATA: The training data are used to compute the empirical loss\n",
    "$$\n",
    "L_S(h) = \\frac{1}{m_t} \\sum_{z_i \\in S_{t}} \\ell(h,z_i)\n",
    "$$\n",
    "which is used to estimate $h$ in a given model class ${\\cal H}$.\n",
    "i.e. \n",
    "$$\n",
    "\\hat{h} = {\\rm arg\\; min}_{h \\in {\\cal H}} \\, L_S(h)\n",
    "$$\n",
    "\n",
    "TESTING DATA: The test data set can be used to estimate the performance of the final estimated model\n",
    "$\\hat h_{\\hat d_j}$ using:\n",
    "$$\n",
    "L_{{\\cal D}}(\\hat h_{\\hat d_j}) \\simeq \\frac{1}{m_{test}} \\sum_{ z_i \\in S_{test}} \\ell(\\hat h_{\\hat d_j},z_i)\n",
    "$$\n",
    "\n",
    "\n",
    "**TO DO**: split the data in training and test sets (70%-30%)"
   ]
  },
  {
   "cell_type": "code",
   "execution_count": 29,
   "id": "8abc3388-9484-43b0-96b8-37d55d391b10",
   "metadata": {},
   "outputs": [
    {
     "name": "stdout",
     "output_type": "stream",
     "text": [
      "Here's the length of the training set: 350\n",
      "Here's the length of the test set: 150\n",
      "Shape of training set: (350, 14)\n",
      "Shape of test set: (150, 14)\n"
     ]
    }
   ],
   "source": [
    "def splitter(totalset, percentage): \n",
    "    \n",
    "    np.random.seed(2039311)\n",
    "    shuffling = np.random.permutation(len(totalset)) \n",
    "    \n",
    "    test_set_size = int(len(totalset) * percentage) \n",
    "    \n",
    "    test_indices = shuffling[:test_set_size]     \n",
    "    train_indices = shuffling[test_set_size:] \n",
    "    \n",
    "    return totalset.iloc[train_indices], totalset.iloc[test_indices]\n",
    "\n",
    "train_set, test_set = splitter(house, 0.30)\n",
    "\n",
    "print(\"Here's the length of the training set:\",len(train_set))\n",
    "print(\"Here's the length of the test set:\",len(test_set))\n",
    "\n",
    "print(\"Shape of training set: \" + str(train_set.shape))\n",
    "print(\"Shape of test set: \" + str(test_set.shape))\n"
   ]
  },
  {
   "cell_type": "markdown",
   "id": "c50428d6-fc52-44d9-bc69-efb2c3302c15",
   "metadata": {},
   "source": [
    "# Data Normalization\n",
    "It is common practice in Statistics and Machine Learning to scale the data (= each variable) so that it is centered (zero mean) and has standard deviation equal to 1. This helps in terms of numerical conditioning of the (inverse) problems of estimating the model (the coefficients of the linear regression in this case), as well as to give the same scale to all the coefficients."
   ]
  },
  {
   "cell_type": "code",
   "execution_count": 30,
   "id": "63ea2ebc-3187-4148-992a-6a87892e4210",
   "metadata": {},
   "outputs": [
    {
     "name": "stdout",
     "output_type": "stream",
     "text": [
      "(350, 13)\n",
      "(150, 13)\n",
      "Mean of the training input data: [ 0.  0.  0. -0. -0.  0.  0. -0.  0.  0.  0.  0.  0.]\n",
      "Std of the training input data: [1. 1. 1. 1. 1. 1. 1. 1. 1. 1. 1. 1. 1.]\n",
      "Mean of the test input data: [-0.  0.  0. -0. -0. -0.  0.  0. -0.  0.  0. -0. -0.]\n",
      "Std of the test input data: [1. 1. 1. 1. 1. 1. 1. 1. 1. 1. 1. 1. 1.]\n"
     ]
    }
   ],
   "source": [
    "# scale the data\n",
    "\n",
    "# standardize the input matrix\n",
    "from sklearn import preprocessing\n",
    "# the transformation is computed on training data and then used on all the 3 sets\n",
    "\n",
    "X_training = train_set.iloc[:,:-1]\n",
    "print(X_training.shape)\n",
    "\n",
    "X_test = test_set.iloc[:,:-1]\n",
    "print(X_test.shape)\n",
    "\n",
    "scaler = preprocessing.StandardScaler().fit(X_training) \n",
    "\n",
    "np.set_printoptions(suppress=True) # sets to zero floating point numbers < min_float_eps\n",
    "X_training = scaler.transform(X_training)\n",
    "print (\"Mean of the training input data:\", X_training.mean(axis=0))\n",
    "print (\"Std of the training input data:\",X_training.std(axis=0))\n",
    "\n",
    "scaler = preprocessing.StandardScaler().fit(X_test) \n",
    "\n",
    "np.set_printoptions(suppress=True)\n",
    "X_test = scaler.transform(X_test) # use the same transformation on test data\n",
    "print (\"Mean of the test input data:\", X_test.mean(axis=0))\n",
    "print (\"Std of the test input data:\", X_test.std(axis=0))"
   ]
  },
  {
   "cell_type": "markdown",
   "id": "c0e1a431-78fd-4ec2-8409-4053174baf67",
   "metadata": {},
   "source": [
    "# Model Training \n",
    "\n",
    "The model is trained (= estimated) minimizing the empirical error\n",
    "$$\n",
    "L_S(h) := \\frac{1}{m_t} \\sum_{z_i \\in S_{t}} \\ell(h,z_i)\n",
    "$$\n",
    "When the loss function is the quadratic loss\n",
    "$$\n",
    "\\ell(h,z) := (y - h(x))^2\n",
    "$$\n",
    "we define  the Residual Sum of Squares (RSS) as\n",
    "$$\n",
    "RSS(h):= \\sum_{z_i \\in S_{t}} \\ell(h,z_i) = \\sum_{z_i \\in S_{t}} (y_i - h(x_i))^2\n",
    "$$ so that the training error becomes\n",
    "$$\n",
    "L_S(h) = \\frac{RSS(h)}{m_t}\n",
    "$$\n",
    "\n",
    "We recal that, for linear models we have $h(x) = <w,x>$ and the Empirical error $L_S(h)$ can be written\n",
    "in terms of the vector of parameters $w$ in the form\n",
    "$$\n",
    "L_S(w) = \\frac{1}{m_t} \\|Y - X w\\|^2\n",
    "$$\n",
    "where $Y$ and $X$ are the matrices whose $i-$th row are, respectively, the output data $y_i$ and the input vectors $x_i^\\top$.\n",
    "\n",
    "\n",
    " **TO DO:** compute the linear regression coefficients using np.linalg.lstsq from scikitlear \n",
    " "
   ]
  },
  {
   "cell_type": "code",
   "execution_count": 31,
   "id": "5a0e562c-c491-474e-9f82-6a0af43d5674",
   "metadata": {},
   "outputs": [
    {
     "name": "stdout",
     "output_type": "stream",
     "text": [
      "(350,)\n",
      "(350, 14)\n",
      "(150,)\n",
      "(150, 14)\n",
      "LS coefficients with numpy lstsq: [224.11714286  -8.58379076  12.85328033   0.588573     7.83304354\n",
      " -19.37008294  25.16770822   3.70893909 -33.33105325  26.52166986\n",
      " -19.90007235 -19.25626074  10.0227184  -41.67719909]\n",
      "(14,)\n",
      "Empirical risk with numpy lstsq: [2260.65280665]\n",
      "Empirical risk by hand: 2260.6528066483015\n"
     ]
    },
    {
     "name": "stderr",
     "output_type": "stream",
     "text": [
      "/var/folders/6w/m1m6tnk96lx6qjy4zz33q_wr0000gn/T/ipykernel_14801/1997044293.py:21: FutureWarning: `rcond` parameter will change to the default of machine precision times ``max(M, N)`` where M and N are the input matrix dimensions.\n",
      "To use the future default and silence this warning we advise to pass `rcond=None`, to keep using the old, explicitly pass `rcond=-1`.\n",
      "  w_np, RSStr_np, rank_Xtr, sv_Xtr = np.linalg.lstsq(X_trainingH, Y_training)\n"
     ]
    }
   ],
   "source": [
    "#compute linear regression coefficients for training data\n",
    "\n",
    "Y_training = train_set.iloc[:,-1]\n",
    "print(Y_training.shape)\n",
    "Y_training = Y_training.astype('float64')\n",
    "\n",
    "#add a 1 at the beginning of each sample for training, and testing (use homogeneous coordinates)\n",
    "m_training = X_training.shape[0]\n",
    "X_trainingH = np.hstack((np.ones((m_training,1)),X_training)) # H: in homogeneous coordinates\n",
    "print(X_trainingH.shape)\n",
    "X_trainingH = X_trainingH.astype('float64')\n",
    "\n",
    "Y_test = test_set.iloc[:,-1]\n",
    "print(Y_test.shape)\n",
    "\n",
    "m_test = X_test.shape[0]\n",
    "X_testH = np.hstack((np.ones((m_test,1)),X_test))  # H: in homogeneous coordinates\n",
    "print(X_testH.shape)\n",
    "\n",
    "# Compute the least-squares coefficients using linalg.lstsq\n",
    "w_np, RSStr_np, rank_Xtr, sv_Xtr = np.linalg.lstsq(X_trainingH, Y_training)\n",
    "print(\"LS coefficients with numpy lstsq:\", w_np)\n",
    "\n",
    "w_np=np.transpose(w_np)\n",
    "print(w_np.shape)\n",
    "\n",
    "# compute Residual sums of squares \n",
    "res=( Y_training - np.dot(X_trainingH,w_np)  )\n",
    "RSStr_hand = np.inner(res,res)\n",
    "\n",
    "#print(\"RSS with numpy lstsq: \", RSStr_np)\n",
    "print(\"Empirical risk with numpy lstsq:\", RSStr_np/m_training)\n",
    "print(\"Empirical risk by hand:\", RSStr_hand/m_training)"
   ]
  },
  {
   "cell_type": "markdown",
   "id": "341172f0-5baa-4d88-828f-42a07b35b6ba",
   "metadata": {},
   "source": [
    "## Data prediction \n",
    "\n",
    "Compute the output predictions on both training and test set and compute the Residual Sum of Squares (RSS). \n",
    "\n",
    "**TO DO**: Compute these quantities on  training and test sets."
   ]
  },
  {
   "cell_type": "code",
   "execution_count": 32,
   "id": "8618fd48-85a5-45d9-ab8e-21583e01ee6f",
   "metadata": {},
   "outputs": [
    {
     "name": "stdout",
     "output_type": "stream",
     "text": [
      "RSS on test data: 306789.72267669445\n",
      "while on training was: [791228.48232691]\n",
      "Loss estimated from test data: 2045.2648178446298\n"
     ]
    }
   ],
   "source": [
    "#compute predictions on training and test\n",
    "\n",
    "prediction_training = np.dot(X_trainingH,w_np)\n",
    "prediction_test = np.dot(X_testH,w_np)\n",
    "\n",
    "#what about the loss for points in the test data?\n",
    "res=( Y_test - prediction_test  )\n",
    "RSS_test = np.inner(res,res)\n",
    "\n",
    "print(\"RSS on test data:\",  RSS_test)\n",
    "print(\"while on training was:\",RSStr_np)\n",
    "print(\"Loss estimated from test data:\", RSS_test/m_test)"
   ]
  },
  {
   "cell_type": "markdown",
   "id": "cbf40757-bfab-4f65-bb98-de8c3937504d",
   "metadata": {},
   "source": [
    "### QUESTION 4: Comment on the results you get and on the difference between the train and test errors.\n",
    "\n",
    "The loss is large but withing the expected range of 2000-3000 both for the training and test sets. \n",
    "The generalization error is actually smaller than the one on the training set, although m_test<<m_training. This is due to the fact that RSS on test data and training data are strongly different: 306789.72267669445 (test) << 791228.48232691 (training). \n",
    "This indicates that the sum of differences among targets and predictions gets much larger in the training set."
   ]
  },
  {
   "cell_type": "markdown",
   "id": "c25dc97f-9aa6-4ca2-9adf-cf98ee0466bc",
   "metadata": {},
   "source": [
    "## Ordinary Least-Squares using scikit-learn\n",
    "Another fast way to compute the LS estimate is through sklearn.linear_model (for this function homogeneous coordinates are not needed)."
   ]
  },
  {
   "cell_type": "code",
   "execution_count": 33,
   "id": "59163a16-b703-43f9-b2c6-28794e4884b4",
   "metadata": {},
   "outputs": [
    {
     "name": "stdout",
     "output_type": "stream",
     "text": [
      "Intercept: 224.11714285714282\n",
      "Least-Squares Coefficients: [  0.          -8.58379076  12.85328033   0.588573     7.83304354\n",
      " -19.37008294  25.16770822   3.70893909 -33.33105325  26.52166986\n",
      " -19.90007235 -19.25626074  10.0227184  -41.67719909]\n",
      "Measure on training data: 0.2676573883775387\n",
      "Loss estimated from training data: 52489.14652909728\n",
      "Loss estimated from test data: 54608.84572396708\n"
     ]
    }
   ],
   "source": [
    "from sklearn import linear_model\n",
    "\n",
    "# build the LinearRegression() model and train it\n",
    "LinReg = linear_model.LinearRegression().fit(X_trainingH,Y_training)\n",
    "\n",
    "print(\"Intercept:\", LinReg.intercept_)\n",
    "print(\"Least-Squares Coefficients:\", LinReg.coef_)\n",
    "\n",
    "# predict output values on training and test sets\n",
    "\n",
    "prediction_training = np.dot(X_trainingH,LinReg.coef_)\n",
    "prediction_test = np.dot(X_testH,LinReg.coef_)\n",
    "\n",
    "res=( Y_training - prediction_training  )\n",
    "RSStr_hand = np.inner(res,res)\n",
    "\n",
    "res=( Y_test - prediction_test  )\n",
    "RSS_test = np.inner(res,res)\n",
    "\n",
    "# return a prediction score based on the coefficient of determination\n",
    "print(\"Measure on training data:\", 1-LinReg.score(X_trainingH, Y_training))\n",
    "print(\"Loss estimated from training data:\", RSStr_hand/m_training)\n",
    "print(\"Loss estimated from test data:\", RSS_test/m_test)"
   ]
  },
  {
   "cell_type": "code",
   "execution_count": null,
   "id": "310b7f21-8e7b-4f56-9035-3a30cfc0183e",
   "metadata": {},
   "outputs": [],
   "source": []
  }
 ],
 "metadata": {
  "kernelspec": {
   "display_name": "Python 3 (ipykernel)",
   "language": "python",
   "name": "python3"
  },
  "language_info": {
   "codemirror_mode": {
    "name": "ipython",
    "version": 3
   },
   "file_extension": ".py",
   "mimetype": "text/x-python",
   "name": "python",
   "nbconvert_exporter": "python",
   "pygments_lexer": "ipython3",
   "version": "3.8.8"
  }
 },
 "nbformat": 4,
 "nbformat_minor": 5
}
