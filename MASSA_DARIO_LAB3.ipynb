{
 "cells": [
  {
   "cell_type": "markdown",
   "metadata": {
    "tags": []
   },
   "source": [
    "# Characters Classification with Neural Networks\n",
    "\n",
    "In this notebook we are going to use the Neural Networks for image classification. We are going to use the same dataset of the lab on SVM: Kuzushiji-MNIST or K-MNIST for short (https://github.com/rois-codh/kmnist) a dataset of traditional japanese handwritten kana.\n",
    "\n",
    "The dataset labels are the following:\n",
    "\n",
    "| Label | Hiragana Character | Romanji (Pronunciation) |\n",
    "| :-: | :-: | :-: |\n",
    "|   0   | お | o |\n",
    "| 1 | き | ki |\n",
    "| 2 | す | su |\n",
    "| 3 | つ | tsu |\n",
    "| 4 | な | na |\n",
    "| 5 | は | ha |\n",
    "| 6 | ま | ma |\n",
    "| 7 | や | ya |\n",
    "| 8 | れ | re |\n",
    "| 9 | を | wo |"
   ]
  },
  {
   "cell_type": "markdown",
   "metadata": {},
   "source": [
    "**STUDENT: DARIO MASSA**\n",
    "ID = 2039311"
   ]
  },
  {
   "cell_type": "code",
   "execution_count": 1,
   "metadata": {},
   "outputs": [
    {
     "name": "stdout",
     "output_type": "stream",
     "text": [
      "scikit-learn version:  0.24.2\n"
     ]
    }
   ],
   "source": [
    "#load the required packages and check Scikit-learn version\n",
    "\n",
    "%matplotlib inline  \n",
    "\n",
    "import numpy as np\n",
    "import scipy as sp\n",
    "import matplotlib.pyplot as plt\n",
    "\n",
    "import sklearn\n",
    "print ('scikit-learn version: ', sklearn.__version__)\n",
    "from sklearn.neural_network import MLPClassifier\n",
    "from sklearn.model_selection import GridSearchCV\n",
    "from sklearn.svm import SVC"
   ]
  },
  {
   "cell_type": "code",
   "execution_count": 2,
   "metadata": {},
   "outputs": [],
   "source": [
    "# helper function to load KMNIST dataset from disk\n",
    "def load_mnist(path, kind='train'):\n",
    "    import os\n",
    "    import gzip\n",
    "    import numpy as np\n",
    "    labels_path = os.path.join(path, 'K%s-labels-idx1-ubyte.gz' % kind)\n",
    "    images_path = os.path.join(path, 'K%s-images-idx3-ubyte.gz' % kind)\n",
    "    with gzip.open(labels_path, 'rb') as lbpath:\n",
    "        labels = np.frombuffer(lbpath.read(), dtype=np.uint8,offset=8)\n",
    "    with gzip.open(images_path, 'rb') as imgpath:\n",
    "        images = np.frombuffer(imgpath.read(), dtype=np.uint8,offset=16).reshape(len(labels), 784)\n",
    "    return images, labels"
   ]
  },
  {
   "cell_type": "markdown",
   "metadata": {},
   "source": [
    "# TODO \n",
    "Set as seed for the random generator your Student ID (you can use your \"numero di matricola\"). Try to change the seed to see the impact of the randomization."
   ]
  },
  {
   "cell_type": "code",
   "execution_count": 3,
   "metadata": {},
   "outputs": [],
   "source": [
    "ID = 2039311\n",
    "np.random.seed(ID)"
   ]
  },
  {
   "cell_type": "code",
   "execution_count": 4,
   "metadata": {},
   "outputs": [
    {
     "name": "stdout",
     "output_type": "stream",
     "text": [
      "Number of samples in the K-MNIST dataset: 60000\n"
     ]
    }
   ],
   "source": [
    "#load the MNIST dataset and let's normalize the features so that each value is in [0,1]\n",
    "X, y = load_mnist(\"data\")\n",
    "print(\"Number of samples in the K-MNIST dataset:\", X.shape[0])\n",
    "# rescale the data\n",
    "X = X / 255.0"
   ]
  },
  {
   "cell_type": "markdown",
   "metadata": {},
   "source": [
    "Now split into training and test. We start with a small training set of 600 samples to reduce computation time while 4000 samples will be used for testing. Make sure that each label is present at least 10 times in train and test set frequencies."
   ]
  },
  {
   "cell_type": "code",
   "execution_count": 5,
   "metadata": {},
   "outputs": [
    {
     "name": "stdout",
     "output_type": "stream",
     "text": [
      "Labels in training dataset:  [0 1 2 3 4 5 6 7 8 9]\n",
      "Frequencies in training dataset:  [59 64 72 66 61 62 57 58 56 45]\n",
      "Labels in test set:  [0 1 2 3 4 5 6 7 8 9]\n",
      "Frequencies in test set:  [59 64 72 66 61 62 57 58 56 45]\n"
     ]
    }
   ],
   "source": [
    "#random permute the data and split into training and test taking the first 600\n",
    "#data samples as training and 4000 as test set\n",
    "permutation = np.random.permutation(X.shape[0])\n",
    "\n",
    "X = X[permutation]\n",
    "y = y[permutation]\n",
    "\n",
    "m_training = 600\n",
    "m_test = 4000\n",
    "\n",
    "X_train, X_test = X[:m_training], X[m_training:m_training+m_test]\n",
    "y_train, y_test = y[:m_training], y[m_training:m_training+m_test]\n",
    "\n",
    "labels, freqs = np.unique(y_train, return_counts=True)\n",
    "print(\"Labels in training dataset: \", labels)\n",
    "print(\"Frequencies in training dataset: \", freqs)\n",
    "\n",
    "labelsT, freqsT = np.unique(y_test, return_counts=True)\n",
    "print(\"Labels in test set: \", labels)\n",
    "print(\"Frequencies in test set: \", freqs)\n"
   ]
  },
  {
   "cell_type": "code",
   "execution_count": 6,
   "metadata": {},
   "outputs": [],
   "source": [
    "#function for plotting a image and printing the corresponding label\n",
    "def plot_input(X_matrix, labels, index):\n",
    "    print(\"INPUT:\")\n",
    "    plt.imshow(\n",
    "        X_matrix[index].reshape(28,28),\n",
    "        cmap          = plt.cm.gray_r,\n",
    "        interpolation = \"nearest\"\n",
    "    )\n",
    "    plt.show()\n",
    "    print(\"LABEL: %i\"%labels[index])\n",
    "    return"
   ]
  },
  {
   "cell_type": "code",
   "execution_count": 7,
   "metadata": {},
   "outputs": [
    {
     "name": "stdout",
     "output_type": "stream",
     "text": [
      "INPUT:\n"
     ]
    },
    {
     "data": {
      "image/png": "[encoded data removed]",
      "text/plain": [
       "<Figure size 432x288 with 1 Axes>"
      ]
     },
     "metadata": {
      "needs_background": "light"
     },
     "output_type": "display_data"
    },
    {
     "name": "stdout",
     "output_type": "stream",
     "text": [
      "LABEL: 5\n",
      "INPUT:\n"
     ]
    },
    {
     "data": {
      "image/png": "[encoded data removed]",
      "text/plain": [
       "<Figure size 432x288 with 1 Axes>"
      ]
     },
     "metadata": {
      "needs_background": "light"
     },
     "output_type": "display_data"
    },
    {
     "name": "stdout",
     "output_type": "stream",
     "text": [
      "LABEL: 2\n",
      "INPUT:\n"
     ]
    },
    {
     "data": {
      "image/png": "[encoded data removed]",
      "text/plain": [
       "<Figure size 432x288 with 1 Axes>"
      ]
     },
     "metadata": {
      "needs_background": "light"
     },
     "output_type": "display_data"
    },
    {
     "name": "stdout",
     "output_type": "stream",
     "text": [
      "LABEL: 3\n"
     ]
    }
   ],
   "source": [
    "#let's try the plotting function\n",
    "plot_input(X_train,y_train,10)\n",
    "plot_input(X_test,y_test,100)\n",
    "plot_input(X_test,y_test,1000)"
   ]
  },
  {
   "cell_type": "markdown",
   "metadata": {},
   "source": [
    "### TO DO 1\n",
    "\n",
    "Now use a feed-forward Neural Network for prediction. Use the multi-layer perceptron classifier, with the following parameters: max_iter=100, alpha=1e-4, solver='sgd', tol=1e-4, learning_rate_init=.1, random_state=ID (this last parameter ensures the run is the same even if you run it more than once). The alpha parameter is the regularization term.\n",
    "\n",
    "Then, using the default activation function, pick four or five architectures to consider, with different numbers of hidden layers and different sizes. It is not necessary to create huge neural networks, you can limit to 3 layers and, for each layer, its maximum size can be of 50. Evaluate the architectures you chose using GridSearchCV with cv=5.\n",
    "\n",
    "You can reduce the number of iterations if the running time is too long on your computer.\n"
   ]
  },
  {
   "cell_type": "code",
   "execution_count": 8,
   "metadata": {},
   "outputs": [
    {
     "name": "stdout",
     "output_type": "stream",
     "text": [
      "RESULTS FOR NN\n",
      "\n"
     ]
    },
    {
     "data": {
      "text/html": [
       "<div>\n",
       "<style scoped>\n",
       "    .dataframe tbody tr th:only-of-type {\n",
       "        vertical-align: middle;\n",
       "    }\n",
       "\n",
       "    .dataframe tbody tr th {\n",
       "        vertical-align: top;\n",
       "    }\n",
       "\n",
       "    .dataframe thead th {\n",
       "        text-align: right;\n",
       "    }\n",
       "</style>\n",
       "<table border=\"1\" class=\"dataframe\">\n",
       "  <thead>\n",
       "    <tr style=\"text-align: right;\">\n",
       "      <th></th>\n",
       "      <th>mean_fit_time</th>\n",
       "      <th>std_fit_time</th>\n",
       "      <th>mean_score_time</th>\n",
       "      <th>std_score_time</th>\n",
       "      <th>param_hidden_layer_sizes</th>\n",
       "      <th>params</th>\n",
       "      <th>split0_test_score</th>\n",
       "      <th>split1_test_score</th>\n",
       "      <th>split2_test_score</th>\n",
       "      <th>split3_test_score</th>\n",
       "      <th>split4_test_score</th>\n",
       "      <th>mean_test_score</th>\n",
       "      <th>std_test_score</th>\n",
       "      <th>rank_test_score</th>\n",
       "    </tr>\n",
       "  </thead>\n",
       "  <tbody>\n",
       "    <tr>\n",
       "      <th>0</th>\n",
       "      <td>0.203900</td>\n",
       "      <td>0.030840</td>\n",
       "      <td>0.000509</td>\n",
       "      <td>0.000240</td>\n",
       "      <td>(10,)</td>\n",
       "      <td>{'hidden_layer_sizes': (10,)}</td>\n",
       "      <td>0.641667</td>\n",
       "      <td>0.641667</td>\n",
       "      <td>0.675000</td>\n",
       "      <td>0.700000</td>\n",
       "      <td>0.591667</td>\n",
       "      <td>0.650000</td>\n",
       "      <td>0.036515</td>\n",
       "      <td>5</td>\n",
       "    </tr>\n",
       "    <tr>\n",
       "      <th>1</th>\n",
       "      <td>0.190609</td>\n",
       "      <td>0.023839</td>\n",
       "      <td>0.000576</td>\n",
       "      <td>0.000210</td>\n",
       "      <td>(20,)</td>\n",
       "      <td>{'hidden_layer_sizes': (20,)}</td>\n",
       "      <td>0.725000</td>\n",
       "      <td>0.700000</td>\n",
       "      <td>0.750000</td>\n",
       "      <td>0.725000</td>\n",
       "      <td>0.708333</td>\n",
       "      <td>0.721667</td>\n",
       "      <td>0.017159</td>\n",
       "      <td>2</td>\n",
       "    </tr>\n",
       "    <tr>\n",
       "      <th>2</th>\n",
       "      <td>0.248630</td>\n",
       "      <td>0.013599</td>\n",
       "      <td>0.000712</td>\n",
       "      <td>0.000196</td>\n",
       "      <td>(40,)</td>\n",
       "      <td>{'hidden_layer_sizes': (40,)}</td>\n",
       "      <td>0.741667</td>\n",
       "      <td>0.741667</td>\n",
       "      <td>0.783333</td>\n",
       "      <td>0.725000</td>\n",
       "      <td>0.708333</td>\n",
       "      <td>0.740000</td>\n",
       "      <td>0.024944</td>\n",
       "      <td>1</td>\n",
       "    </tr>\n",
       "    <tr>\n",
       "      <th>3</th>\n",
       "      <td>0.162609</td>\n",
       "      <td>0.013889</td>\n",
       "      <td>0.000703</td>\n",
       "      <td>0.000212</td>\n",
       "      <td>(20, 20)</td>\n",
       "      <td>{'hidden_layer_sizes': (20, 20)}</td>\n",
       "      <td>0.666667</td>\n",
       "      <td>0.691667</td>\n",
       "      <td>0.733333</td>\n",
       "      <td>0.708333</td>\n",
       "      <td>0.700000</td>\n",
       "      <td>0.700000</td>\n",
       "      <td>0.021731</td>\n",
       "      <td>3</td>\n",
       "    </tr>\n",
       "    <tr>\n",
       "      <th>4</th>\n",
       "      <td>0.249514</td>\n",
       "      <td>0.046737</td>\n",
       "      <td>0.000729</td>\n",
       "      <td>0.000305</td>\n",
       "      <td>(40, 20, 10)</td>\n",
       "      <td>{'hidden_layer_sizes': (40, 20, 10)}</td>\n",
       "      <td>0.683333</td>\n",
       "      <td>0.641667</td>\n",
       "      <td>0.766667</td>\n",
       "      <td>0.675000</td>\n",
       "      <td>0.683333</td>\n",
       "      <td>0.690000</td>\n",
       "      <td>0.041298</td>\n",
       "      <td>4</td>\n",
       "    </tr>\n",
       "  </tbody>\n",
       "</table>\n",
       "</div>"
      ],
      "text/plain": [
       "   mean_fit_time  std_fit_time  mean_score_time  std_score_time  \\\n",
       "0       0.203900      0.030840         0.000509        0.000240   \n",
       "1       0.190609      0.023839         0.000576        0.000210   \n",
       "2       0.248630      0.013599         0.000712        0.000196   \n",
       "3       0.162609      0.013889         0.000703        0.000212   \n",
       "4       0.249514      0.046737         0.000729        0.000305   \n",
       "\n",
       "  param_hidden_layer_sizes                                params  \\\n",
       "0                    (10,)         {'hidden_layer_sizes': (10,)}   \n",
       "1                    (20,)         {'hidden_layer_sizes': (20,)}   \n",
       "2                    (40,)         {'hidden_layer_sizes': (40,)}   \n",
       "3                 (20, 20)      {'hidden_layer_sizes': (20, 20)}   \n",
       "4             (40, 20, 10)  {'hidden_layer_sizes': (40, 20, 10)}   \n",
       "\n",
       "   split0_test_score  split1_test_score  split2_test_score  split3_test_score  \\\n",
       "0           0.641667           0.641667           0.675000           0.700000   \n",
       "1           0.725000           0.700000           0.750000           0.725000   \n",
       "2           0.741667           0.741667           0.783333           0.725000   \n",
       "3           0.666667           0.691667           0.733333           0.708333   \n",
       "4           0.683333           0.641667           0.766667           0.675000   \n",
       "\n",
       "   split4_test_score  mean_test_score  std_test_score  rank_test_score  \n",
       "0           0.591667         0.650000        0.036515                5  \n",
       "1           0.708333         0.721667        0.017159                2  \n",
       "2           0.708333         0.740000        0.024944                1  \n",
       "3           0.700000         0.700000        0.021731                3  \n",
       "4           0.683333         0.690000        0.041298                4  "
      ]
     },
     "execution_count": 8,
     "metadata": {},
     "output_type": "execute_result"
    }
   ],
   "source": [
    "# these are sample values but feel free to change them as you like, try to experiment with different sizes!!\n",
    "import warnings\n",
    "warnings.filterwarnings('ignore')\n",
    "parameters = {'hidden_layer_sizes': [(10,), (20,), (40,), (20,20,), (40,20,10) ]}\n",
    "\n",
    "mlp = MLPClassifier(max_iter=100, alpha=1e-4, solver='sgd',\n",
    "                    tol=1e-4, random_state=ID,\n",
    "                    learning_rate_init=.1)\n",
    "\n",
    "#ADD YOUR CODE\n",
    "\n",
    "grid_search = GridSearchCV(mlp, parameters, cv=5)\n",
    "grid_search.fit(X_train, y_train)\n",
    "\n",
    "import pandas as pd \n",
    "\n",
    "print ('RESULTS FOR NN\\n')\n",
    "\n",
    "df = pd.DataFrame(grid_search.cv_results_)\n",
    "df"
   ]
  },
  {
   "cell_type": "code",
   "execution_count": 9,
   "metadata": {},
   "outputs": [
    {
     "name": "stdout",
     "output_type": "stream",
     "text": [
      "Best parameters set found: {'hidden_layer_sizes': (40,)}\n",
      "Score with best parameters: 0.74\n"
     ]
    }
   ],
   "source": [
    "print(\"Best parameters set found:\",grid_search.best_params_)\n",
    "\n",
    "best_layer_sizes = grid_search.best_params_['hidden_layer_sizes']\n",
    "\n",
    "print(\"Score with best parameters:\",grid_search.best_score_)"
   ]
  },
  {
   "cell_type": "code",
   "execution_count": 10,
   "metadata": {},
   "outputs": [
    {
     "name": "stdout",
     "output_type": "stream",
     "text": [
      "\n",
      "All scores on the grid:\n",
      "0    0.650000\n",
      "1    0.721667\n",
      "2    0.740000\n",
      "3    0.700000\n",
      "4    0.690000\n",
      "Name: mean_test_score, dtype: float64\n",
      "0    0.036515\n",
      "1    0.017159\n",
      "2    0.024944\n",
      "3    0.021731\n",
      "4    0.041298\n",
      "Name: std_test_score, dtype: float64\n"
     ]
    }
   ],
   "source": [
    "print(\"\\nAll scores on the grid:\")\n",
    "print(df.mean_test_score)\n",
    "print(df.std_test_score)"
   ]
  },
  {
   "cell_type": "markdown",
   "metadata": {},
   "source": [
    "### TO DO 2\n",
    "\n",
    "Now try also different batch sizes, while keeping the best NN architecture you have found above. Remember that the batch size was previously set to the default value, i.e., min(200, n_samples). \n",
    "Recall that a batch size of 1 corresponds to baseline SGD, while using all the 480 training samples (there are 600 samples but in cross validation with 5 folders we use 1/5 of them for validation at each round) corresponds to standard GD and using a different mini-batch size lies in the middle between the two extreme cases."
   ]
  },
  {
   "cell_type": "code",
   "execution_count": 11,
   "metadata": {},
   "outputs": [
    {
     "name": "stdout",
     "output_type": "stream",
     "text": [
      "RESULTS FOR NN\n",
      "\n"
     ]
    },
    {
     "data": {
      "text/html": [
       "<div>\n",
       "<style scoped>\n",
       "    .dataframe tbody tr th:only-of-type {\n",
       "        vertical-align: middle;\n",
       "    }\n",
       "\n",
       "    .dataframe tbody tr th {\n",
       "        vertical-align: top;\n",
       "    }\n",
       "\n",
       "    .dataframe thead th {\n",
       "        text-align: right;\n",
       "    }\n",
       "</style>\n",
       "<table border=\"1\" class=\"dataframe\">\n",
       "  <thead>\n",
       "    <tr style=\"text-align: right;\">\n",
       "      <th></th>\n",
       "      <th>mean_fit_time</th>\n",
       "      <th>std_fit_time</th>\n",
       "      <th>mean_score_time</th>\n",
       "      <th>std_score_time</th>\n",
       "      <th>param_batch_size</th>\n",
       "      <th>params</th>\n",
       "      <th>split0_test_score</th>\n",
       "      <th>split1_test_score</th>\n",
       "      <th>split2_test_score</th>\n",
       "      <th>split3_test_score</th>\n",
       "      <th>split4_test_score</th>\n",
       "      <th>mean_test_score</th>\n",
       "      <th>std_test_score</th>\n",
       "      <th>rank_test_score</th>\n",
       "    </tr>\n",
       "  </thead>\n",
       "  <tbody>\n",
       "    <tr>\n",
       "      <th>0</th>\n",
       "      <td>8.168796</td>\n",
       "      <td>1.568115</td>\n",
       "      <td>0.000770</td>\n",
       "      <td>0.000193</td>\n",
       "      <td>1</td>\n",
       "      <td>{'batch_size': 1}</td>\n",
       "      <td>0.100000</td>\n",
       "      <td>0.125000</td>\n",
       "      <td>0.075000</td>\n",
       "      <td>0.075000</td>\n",
       "      <td>0.108333</td>\n",
       "      <td>0.096667</td>\n",
       "      <td>0.019437</td>\n",
       "      <td>6</td>\n",
       "    </tr>\n",
       "    <tr>\n",
       "      <th>1</th>\n",
       "      <td>0.238132</td>\n",
       "      <td>0.003518</td>\n",
       "      <td>0.000614</td>\n",
       "      <td>0.000104</td>\n",
       "      <td>32</td>\n",
       "      <td>{'batch_size': 32}</td>\n",
       "      <td>0.733333</td>\n",
       "      <td>0.708333</td>\n",
       "      <td>0.725000</td>\n",
       "      <td>0.733333</td>\n",
       "      <td>0.691667</td>\n",
       "      <td>0.718333</td>\n",
       "      <td>0.016159</td>\n",
       "      <td>4</td>\n",
       "    </tr>\n",
       "    <tr>\n",
       "      <th>2</th>\n",
       "      <td>0.241626</td>\n",
       "      <td>0.040064</td>\n",
       "      <td>0.000567</td>\n",
       "      <td>0.000100</td>\n",
       "      <td>50</td>\n",
       "      <td>{'batch_size': 50}</td>\n",
       "      <td>0.750000</td>\n",
       "      <td>0.700000</td>\n",
       "      <td>0.716667</td>\n",
       "      <td>0.750000</td>\n",
       "      <td>0.700000</td>\n",
       "      <td>0.723333</td>\n",
       "      <td>0.022608</td>\n",
       "      <td>2</td>\n",
       "    </tr>\n",
       "    <tr>\n",
       "      <th>3</th>\n",
       "      <td>0.232822</td>\n",
       "      <td>0.013439</td>\n",
       "      <td>0.000533</td>\n",
       "      <td>0.000082</td>\n",
       "      <td>150</td>\n",
       "      <td>{'batch_size': 150}</td>\n",
       "      <td>0.741667</td>\n",
       "      <td>0.700000</td>\n",
       "      <td>0.725000</td>\n",
       "      <td>0.716667</td>\n",
       "      <td>0.700000</td>\n",
       "      <td>0.716667</td>\n",
       "      <td>0.015811</td>\n",
       "      <td>5</td>\n",
       "    </tr>\n",
       "    <tr>\n",
       "      <th>4</th>\n",
       "      <td>0.255506</td>\n",
       "      <td>0.004639</td>\n",
       "      <td>0.000580</td>\n",
       "      <td>0.000162</td>\n",
       "      <td>300</td>\n",
       "      <td>{'batch_size': 300}</td>\n",
       "      <td>0.758333</td>\n",
       "      <td>0.741667</td>\n",
       "      <td>0.716667</td>\n",
       "      <td>0.725000</td>\n",
       "      <td>0.700000</td>\n",
       "      <td>0.728333</td>\n",
       "      <td>0.020138</td>\n",
       "      <td>1</td>\n",
       "    </tr>\n",
       "    <tr>\n",
       "      <th>5</th>\n",
       "      <td>0.254328</td>\n",
       "      <td>0.005476</td>\n",
       "      <td>0.000568</td>\n",
       "      <td>0.000112</td>\n",
       "      <td>480</td>\n",
       "      <td>{'batch_size': 480}</td>\n",
       "      <td>0.750000</td>\n",
       "      <td>0.733333</td>\n",
       "      <td>0.716667</td>\n",
       "      <td>0.708333</td>\n",
       "      <td>0.700000</td>\n",
       "      <td>0.721667</td>\n",
       "      <td>0.017951</td>\n",
       "      <td>3</td>\n",
       "    </tr>\n",
       "  </tbody>\n",
       "</table>\n",
       "</div>"
      ],
      "text/plain": [
       "   mean_fit_time  std_fit_time  mean_score_time  std_score_time  \\\n",
       "0       8.168796      1.568115         0.000770        0.000193   \n",
       "1       0.238132      0.003518         0.000614        0.000104   \n",
       "2       0.241626      0.040064         0.000567        0.000100   \n",
       "3       0.232822      0.013439         0.000533        0.000082   \n",
       "4       0.255506      0.004639         0.000580        0.000162   \n",
       "5       0.254328      0.005476         0.000568        0.000112   \n",
       "\n",
       "  param_batch_size               params  split0_test_score  split1_test_score  \\\n",
       "0                1    {'batch_size': 1}           0.100000           0.125000   \n",
       "1               32   {'batch_size': 32}           0.733333           0.708333   \n",
       "2               50   {'batch_size': 50}           0.750000           0.700000   \n",
       "3              150  {'batch_size': 150}           0.741667           0.700000   \n",
       "4              300  {'batch_size': 300}           0.758333           0.741667   \n",
       "5              480  {'batch_size': 480}           0.750000           0.733333   \n",
       "\n",
       "   split2_test_score  split3_test_score  split4_test_score  mean_test_score  \\\n",
       "0           0.075000           0.075000           0.108333         0.096667   \n",
       "1           0.725000           0.733333           0.691667         0.718333   \n",
       "2           0.716667           0.750000           0.700000         0.723333   \n",
       "3           0.725000           0.716667           0.700000         0.716667   \n",
       "4           0.716667           0.725000           0.700000         0.728333   \n",
       "5           0.716667           0.708333           0.700000         0.721667   \n",
       "\n",
       "   std_test_score  rank_test_score  \n",
       "0        0.019437                6  \n",
       "1        0.016159                4  \n",
       "2        0.022608                2  \n",
       "3        0.015811                5  \n",
       "4        0.020138                1  \n",
       "5        0.017951                3  "
      ]
     },
     "execution_count": 11,
     "metadata": {},
     "output_type": "execute_result"
    }
   ],
   "source": [
    "# these are sample values corresponding to baseline SGD, a reasonable mini-batch size and standard GD\n",
    "# again feel free to change them as you like, try to experiment with different batch sizes!!\n",
    "parameters = {'batch_size': [1, 32, 50, 150,300,480]}\n",
    "\n",
    "# need to specify that you would like to use the standard k-fold split otherwise sklearn create splits of different sizes\n",
    "kf = sklearn.model_selection.KFold(n_splits=5)\n",
    "\n",
    "#ADD YOUR CODE\n",
    "\n",
    "# recall to use cv=kf to use the k-fold subdivision seen in the lectures\n",
    "\n",
    "mlp = MLPClassifier(max_iter=100, alpha=1e-4, solver='sgd',\n",
    "                    tol=1e-4, random_state=ID,\n",
    "                    learning_rate_init=.1, hidden_layer_sizes = best_layer_sizes)\n",
    "\n",
    "grid_search = GridSearchCV(mlp, parameters, cv=kf)\n",
    "\n",
    "grid_search.fit(X_train, y_train)\n",
    "\n",
    "print ('RESULTS FOR NN\\n')\n",
    "\n",
    "df = pd.DataFrame(grid_search.cv_results_)\n",
    "df"
   ]
  },
  {
   "cell_type": "code",
   "execution_count": 12,
   "metadata": {},
   "outputs": [
    {
     "name": "stdout",
     "output_type": "stream",
     "text": [
      "Best parameters set found: {'batch_size': 300}\n",
      "Score with best parameters: 0.7283333333333333\n",
      "\n",
      "All scores on the grid:\n",
      "0    0.096667\n",
      "1    0.718333\n",
      "2    0.723333\n",
      "3    0.716667\n",
      "4    0.728333\n",
      "5    0.721667\n",
      "Name: mean_test_score, dtype: float64\n",
      "0    0.019437\n",
      "1    0.016159\n",
      "2    0.022608\n",
      "3    0.015811\n",
      "4    0.020138\n",
      "5    0.017951\n",
      "Name: std_test_score, dtype: float64\n"
     ]
    }
   ],
   "source": [
    "print(\"Best parameters set found:\",grid_search.best_params_)\n",
    "best_batch_size=grid_search.best_params_['batch_size']\n",
    "print(\"Score with best parameters:\",grid_search.best_score_)\n",
    "\n",
    "print(\"\\nAll scores on the grid:\")\n",
    "print(df.mean_test_score)\n",
    "print(df.std_test_score)"
   ]
  },
  {
   "cell_type": "markdown",
   "metadata": {},
   "source": [
    "### QUESTION 1\n",
    "\n",
    "What do you observe for different architectures and batch sizes? How do the number of layers and their sizes affect the performances? What do you observe for different batch sizes, in particular what happens to the training convergence for different batch sizes (notice that the algorithm could not converge for some batch sizes)?"
   ]
  },
  {
   "cell_type": "markdown",
   "metadata": {},
   "source": [
    "## [ANSWER TO QUESTION 1]\n",
    "For what concerns the architectures, the best number of layers is 1, with the larger sampled size. \n",
    "This seems to give a clue on the fact that, at least for the low number of samples taken into exam, at the price of a longer computational time, the one dense layer case is performing better from the poin of view of the mean_test_score. However it should be noticed that looking at the std_test_score the best performance comes with the higher number of layers. From the point of view of batch sizes, the best result comes with 300, so a trade off with favours high values. Clearly, if the batch size is 1 and we are dealing with SGD, the convergence time is the largest possible, but its lowering stabilizes immediately with the increase of the batch size "
   ]
  },
  {
   "cell_type": "markdown",
   "metadata": {},
   "source": [
    "### TODO 3:\n",
    "\n",
    "Plot the train and test accuracies as a function of the number of learnable parameters in your neural network. Print also the computation time for the various configurations you try (the code for getting the computation time is already provided). You can use 100 iterations (if you get a warning on convergence not reached it is not an issue for this lab)"
   ]
  },
  {
   "cell_type": "code",
   "execution_count": 13,
   "metadata": {},
   "outputs": [
    {
     "name": "stdout",
     "output_type": "stream",
     "text": [
      "Training MLP of size (10,) ...\n",
      "Done, training time: 0.18 sec\n",
      "\n",
      "Training MLP of size (20,) ...\n",
      "Done, training time: 0.24 sec\n",
      "\n",
      "Training MLP of size (40,) ...\n",
      "Done, training time: 0.37 sec\n",
      "\n",
      "Training MLP of size (20, 20) ...\n",
      "Done, training time: 0.21 sec\n",
      "\n",
      "Training MLP of size (40, 20, 10) ...\n",
      "Done, training time: 0.32 sec\n",
      "\n"
     ]
    },
    {
     "data": {
      "image/png": "[encoded data removed]",
      "text/plain": [
       "<Figure size 1080x360 with 2 Axes>"
      ]
     },
     "metadata": {
      "needs_background": "light"
     },
     "output_type": "display_data"
    }
   ],
   "source": [
    "import time\n",
    "from functools import reduce\n",
    "\n",
    "# Function to compute the number of learnable parameters of a mlp given the size of its hidden layers\n",
    "def param_count(hl_size):\n",
    "    tot = 0\n",
    "    input_size, output_size = X_train.shape[1], len(labels)\n",
    "    tot += (input_size+1)*hl_size[0]\n",
    "    for i in range(1,len(hl_size)):\n",
    "        tot += (hl_size[i-1]+1)*hl_size[i]\n",
    "    tot += (hl_size[-1]+1)*output_size\n",
    "    return tot\n",
    "\n",
    "hl_sizes = [(10,), (20,), (40,), (20,20,), (40,20,10)]\n",
    "hl_labels = [param_count(t) for t in hl_sizes]\n",
    "\n",
    "ti = time.time()\n",
    "train_acc_list, test_acc_list = [], []\n",
    "for hl_size in hl_sizes:\n",
    "    print('Training MLP of size {} ...'.format(hl_size))\n",
    "   \n",
    "    mlp = MLPClassifier(max_iter=100, alpha=1e-4, solver='sgd',\n",
    "                    tol=1e-4, random_state=ID,\n",
    "                    learning_rate_init=.1, \n",
    "                    hidden_layer_sizes=hl_size,batch_size=best_batch_size)\n",
    "    \n",
    "    mlp.fit(X_train, y_train)\n",
    "\n",
    "    \n",
    "    train_acc_list.append(mlp.score(X_train, y_train))\n",
    "    test_acc_list.append(mlp.score(X_test, y_test))\n",
    "    print('Done, training time: {:.2f} sec\\n'.format(time.time()-ti))\n",
    "    ti = time.time()\n",
    "\n",
    "fig, ax = plt.subplots(1,2, figsize=(15,5))\n",
    "\n",
    "\n",
    "ax[0].plot(train_acc_list)\n",
    "ax[0].set_xlabel('Number of learnable params')\n",
    "ax[0].set_title('Train accuracy')\n",
    "ax[0].set_xticks(np.arange(0,len(hl_labels)))\n",
    "ax[0].set_xticklabels(hl_labels)\n",
    "ax[0].grid(True)\n",
    "\n",
    "ax[1].plot(test_acc_list)\n",
    "ax[1].set_xlabel('Number of learnable params')\n",
    "ax[1].set_title('Test accuracy')\n",
    "ax[1].set_xticks(np.arange(0,len(hl_labels)))\n",
    "ax[1].set_xticklabels(hl_labels)\n",
    "ax[1].grid(True)\n"
   ]
  },
  {
   "cell_type": "markdown",
   "metadata": {},
   "source": [
    "## Question 2:\n",
    "\n",
    "Comment about the training and test accuracies referring to the discussion on underfitting and overfitting we did in the course"
   ]
  },
  {
   "cell_type": "markdown",
   "metadata": {},
   "source": [
    "## [ANSWER TO QUESTION 2]\n",
    "This intresting trial gives us a clear example of movement from underfitting to overfitting situation by varying the number of learnable parameters (weights) of the network. First of all, the train accurancy plot displays that even with a very simple and small network made up of a single (10,) layer we can learn the training set properly, even though it is not enough to generalize to unseen data in the test set. As we increase the size of the single layer, we reach an optimal solution, which is actually consistent with what we found in TODO1 with GridSearch. \n",
    "As we instead introduce more layers, the power of the network increases but overfitting is present and the network specializes on the training data, loosing its ability to generalize well. "
   ]
  },
  {
   "cell_type": "markdown",
   "metadata": {},
   "source": [
    "### TO DO 4\n",
    "\n",
    "Now try also to use different learning rates, while keeping the best NN architecture and batch size you have found above. Plot the learning curves (i.e., the variation of the loss over the steps, you can get it from the loss_curve_ object of sklearn) for the different values of the learning rate. Try to run each training for 100 iterations. "
   ]
  },
  {
   "cell_type": "code",
   "execution_count": 14,
   "metadata": {},
   "outputs": [
    {
     "name": "stdout",
     "output_type": "stream",
     "text": [
      "RESULTS FOR NN\n",
      "\n"
     ]
    },
    {
     "data": {
      "text/html": [
       "<div>\n",
       "<style scoped>\n",
       "    .dataframe tbody tr th:only-of-type {\n",
       "        vertical-align: middle;\n",
       "    }\n",
       "\n",
       "    .dataframe tbody tr th {\n",
       "        vertical-align: top;\n",
       "    }\n",
       "\n",
       "    .dataframe thead th {\n",
       "        text-align: right;\n",
       "    }\n",
       "</style>\n",
       "<table border=\"1\" class=\"dataframe\">\n",
       "  <thead>\n",
       "    <tr style=\"text-align: right;\">\n",
       "      <th></th>\n",
       "      <th>mean_fit_time</th>\n",
       "      <th>std_fit_time</th>\n",
       "      <th>mean_score_time</th>\n",
       "      <th>std_score_time</th>\n",
       "      <th>param_learning_rate_init</th>\n",
       "      <th>params</th>\n",
       "      <th>split0_test_score</th>\n",
       "      <th>split1_test_score</th>\n",
       "      <th>split2_test_score</th>\n",
       "      <th>split3_test_score</th>\n",
       "      <th>split4_test_score</th>\n",
       "      <th>mean_test_score</th>\n",
       "      <th>std_test_score</th>\n",
       "      <th>rank_test_score</th>\n",
       "    </tr>\n",
       "  </thead>\n",
       "  <tbody>\n",
       "    <tr>\n",
       "      <th>0</th>\n",
       "      <td>0.305948</td>\n",
       "      <td>0.003837</td>\n",
       "      <td>0.000596</td>\n",
       "      <td>0.000201</td>\n",
       "      <td>0.0002</td>\n",
       "      <td>{'learning_rate_init': 0.0002}</td>\n",
       "      <td>0.225000</td>\n",
       "      <td>0.300000</td>\n",
       "      <td>0.250000</td>\n",
       "      <td>0.266667</td>\n",
       "      <td>0.233333</td>\n",
       "      <td>0.255000</td>\n",
       "      <td>0.026667</td>\n",
       "      <td>4</td>\n",
       "    </tr>\n",
       "    <tr>\n",
       "      <th>1</th>\n",
       "      <td>0.303033</td>\n",
       "      <td>0.004923</td>\n",
       "      <td>0.000757</td>\n",
       "      <td>0.000222</td>\n",
       "      <td>0.002</td>\n",
       "      <td>{'learning_rate_init': 0.002}</td>\n",
       "      <td>0.625000</td>\n",
       "      <td>0.725000</td>\n",
       "      <td>0.583333</td>\n",
       "      <td>0.566667</td>\n",
       "      <td>0.625000</td>\n",
       "      <td>0.625000</td>\n",
       "      <td>0.055025</td>\n",
       "      <td>3</td>\n",
       "    </tr>\n",
       "    <tr>\n",
       "      <th>2</th>\n",
       "      <td>0.325674</td>\n",
       "      <td>0.027537</td>\n",
       "      <td>0.000847</td>\n",
       "      <td>0.000285</td>\n",
       "      <td>0.02</td>\n",
       "      <td>{'learning_rate_init': 0.02}</td>\n",
       "      <td>0.750000</td>\n",
       "      <td>0.733333</td>\n",
       "      <td>0.716667</td>\n",
       "      <td>0.741667</td>\n",
       "      <td>0.691667</td>\n",
       "      <td>0.726667</td>\n",
       "      <td>0.020683</td>\n",
       "      <td>1</td>\n",
       "    </tr>\n",
       "    <tr>\n",
       "      <th>3</th>\n",
       "      <td>0.155186</td>\n",
       "      <td>0.002546</td>\n",
       "      <td>0.000603</td>\n",
       "      <td>0.000191</td>\n",
       "      <td>0.2</td>\n",
       "      <td>{'learning_rate_init': 0.2}</td>\n",
       "      <td>0.741667</td>\n",
       "      <td>0.716667</td>\n",
       "      <td>0.733333</td>\n",
       "      <td>0.733333</td>\n",
       "      <td>0.683333</td>\n",
       "      <td>0.721667</td>\n",
       "      <td>0.020817</td>\n",
       "      <td>2</td>\n",
       "    </tr>\n",
       "  </tbody>\n",
       "</table>\n",
       "</div>"
      ],
      "text/plain": [
       "   mean_fit_time  std_fit_time  mean_score_time  std_score_time  \\\n",
       "0       0.305948      0.003837         0.000596        0.000201   \n",
       "1       0.303033      0.004923         0.000757        0.000222   \n",
       "2       0.325674      0.027537         0.000847        0.000285   \n",
       "3       0.155186      0.002546         0.000603        0.000191   \n",
       "\n",
       "  param_learning_rate_init                          params  split0_test_score  \\\n",
       "0                   0.0002  {'learning_rate_init': 0.0002}           0.225000   \n",
       "1                    0.002   {'learning_rate_init': 0.002}           0.625000   \n",
       "2                     0.02    {'learning_rate_init': 0.02}           0.750000   \n",
       "3                      0.2     {'learning_rate_init': 0.2}           0.741667   \n",
       "\n",
       "   split1_test_score  split2_test_score  split3_test_score  split4_test_score  \\\n",
       "0           0.300000           0.250000           0.266667           0.233333   \n",
       "1           0.725000           0.583333           0.566667           0.625000   \n",
       "2           0.733333           0.716667           0.741667           0.691667   \n",
       "3           0.716667           0.733333           0.733333           0.683333   \n",
       "\n",
       "   mean_test_score  std_test_score  rank_test_score  \n",
       "0         0.255000        0.026667                4  \n",
       "1         0.625000        0.055025                3  \n",
       "2         0.726667        0.020683                1  \n",
       "3         0.721667        0.020817                2  "
      ]
     },
     "execution_count": 14,
     "metadata": {},
     "output_type": "execute_result"
    }
   ],
   "source": [
    "import matplotlib.pyplot as plt\n",
    "import operator\n",
    "\n",
    "lr_list = [0.0002, 0.002, 0.02, 0.2]\n",
    "scores = {}\n",
    "\n",
    "\n",
    "parameters = {'learning_rate_init': [0.0002, 0.002, 0.02, 0.2]}\n",
    "\n",
    "# need to specify that you would like to use the standard k-fold split otherwise sklearn create splits of different sizes\n",
    "kf = sklearn.model_selection.KFold(n_splits=5)\n",
    "\n",
    "#ADD YOUR CODE\n",
    "\n",
    "# recall to use cv=kf to use the k-fold subdivision seen in the lectures\n",
    "\n",
    "mlp = MLPClassifier(max_iter=100, alpha=1e-4, solver='sgd',\n",
    "                    tol=1e-4, random_state=ID, hidden_layer_sizes = best_layer_sizes,\n",
    "                    batch_size = best_batch_size)\n",
    "\n",
    "grid_search = GridSearchCV(mlp, parameters, cv=kf)\n",
    "\n",
    "grid_search.fit(X_train, y_train)\n",
    "\n",
    "print ('RESULTS FOR NN\\n')\n",
    "\n",
    "df = pd.DataFrame(grid_search.cv_results_)\n",
    "df"
   ]
  },
  {
   "cell_type": "code",
   "execution_count": 15,
   "metadata": {},
   "outputs": [
    {
     "name": "stdout",
     "output_type": "stream",
     "text": [
      "Best parameters set found: {'learning_rate_init': 0.02}\n",
      "Score with best parameters: 0.7266666666666668\n",
      "\n",
      "All scores on the grid:\n",
      "0    0.255000\n",
      "1    0.625000\n",
      "2    0.726667\n",
      "3    0.721667\n",
      "Name: mean_test_score, dtype: float64\n",
      "0    0.026667\n",
      "1    0.055025\n",
      "2    0.020683\n",
      "3    0.020817\n",
      "Name: std_test_score, dtype: float64\n",
      "Training MLP of lr 0.0002 ...\n",
      "Done, training time: 6.34 sec\n",
      "\n",
      "Training MLP of lr 0.002 ...\n",
      "Done, training time: 0.37 sec\n",
      "\n",
      "Training MLP of lr 0.02 ...\n",
      "Done, training time: 0.37 sec\n",
      "\n",
      "Training MLP of lr 0.2 ...\n",
      "Done, training time: 0.22 sec\n",
      "\n"
     ]
    },
    {
     "data": {
      "text/plain": [
       "<matplotlib.legend.Legend at 0x7fa5d82ba940>"
      ]
     },
     "execution_count": 15,
     "metadata": {},
     "output_type": "execute_result"
    },
    {
     "data": {
      "image/png": "[encoded data removed]",
      "text/plain": [
       "<Figure size 432x288 with 1 Axes>"
      ]
     },
     "metadata": {
      "needs_background": "light"
     },
     "output_type": "display_data"
    }
   ],
   "source": [
    "print(\"Best parameters set found:\",grid_search.best_params_)\n",
    "best_learning_rate_init=grid_search.best_params_['learning_rate_init']\n",
    "print(\"Score with best parameters:\",grid_search.best_score_)\n",
    "\n",
    "print(\"\\nAll scores on the grid:\")\n",
    "print(df.mean_test_score)\n",
    "print(df.std_test_score)\n",
    "\n",
    "for lr_value in lr_list:\n",
    "    \n",
    "    print('Training MLP of lr {} ...'.format(lr_value))\n",
    "   \n",
    "    mlp = MLPClassifier(max_iter=100, alpha=1e-4, solver='sgd',\n",
    "                    tol=1e-4, random_state=ID,\n",
    "                    hidden_layer_sizes=best_layer_sizes,batch_size=best_batch_size,\n",
    "                    learning_rate_init = lr_value)\n",
    "    \n",
    "    mlp.fit(X_train, y_train)\n",
    "    \n",
    "    print('Done, training time: {:.2f} sec\\n'.format(time.time()-ti))\n",
    "    ti = time.time()\n",
    "\n",
    "    loss = mlp.loss_curve_\n",
    "\n",
    "    plt.plot(loss,label='LR'+str(lr_value))\n",
    "plt.legend()\n"
   ]
  },
  {
   "cell_type": "markdown",
   "metadata": {},
   "source": [
    "### QUESTION 3\n",
    "\n",
    "Comment about the learning curves (i.e. the variation of the loss over the steps). How does the curve changes for different learning rates in terms of stability and speed of convergence ?"
   ]
  },
  {
   "cell_type": "markdown",
   "metadata": {},
   "source": [
    "## [ANSWER TO QUESTION 3]\n",
    "By increasing the learning rate, the network learns faster. A similar decreasing trend is indeed followed by the convergence time. \n",
    "The highest LR lead to an end before the 100 steps. The best evaluated parameter via GridSearch is 0.02 "
   ]
  },
  {
   "cell_type": "markdown",
   "metadata": {},
   "source": [
    "### TO DO 5\n",
    "\n",
    "Now get training and test error for a NN with best parameters (architecture, batch size and learning rate) from above. Plot the learning curve also for this case (you can run the training for 500 iterations)."
   ]
  },
  {
   "cell_type": "code",
   "execution_count": 16,
   "metadata": {
    "scrolled": true
   },
   "outputs": [
    {
     "name": "stdout",
     "output_type": "stream",
     "text": [
      "\n",
      "RESULTS FOR BEST NN\n",
      "\n",
      "Best NN training error: 0.001667\n",
      "Best NN test error: 0.251500\n"
     ]
    },
    {
     "data": {
      "image/png": "[encoded data removed]",
      "text/plain": [
       "<Figure size 432x288 with 1 Axes>"
      ]
     },
     "metadata": {
      "needs_background": "light"
     },
     "output_type": "display_data"
    }
   ],
   "source": [
    "#get training and test error for the best NN model from CV\n",
    "\n",
    "#ADD YOUR CODE\n",
    "\n",
    "mlp = MLPClassifier(max_iter=100, alpha=1e-4, solver='sgd',\n",
    "                    tol=1e-4, random_state=ID,\n",
    "                    hidden_layer_sizes=best_layer_sizes,batch_size=best_batch_size,\n",
    "                    learning_rate_init = best_learning_rate_init)\n",
    "    \n",
    "mlp.fit(X_train, y_train)\n",
    "\n",
    "loss = mlp.loss_curve_\n",
    "\n",
    "plt.plot(loss,label='HLS='+str(best_layer_sizes)+', BS='+str(best_batch_size)+', LR='+str(best_learning_rate_init))\n",
    "\n",
    "print ('\\nRESULTS FOR BEST NN\\n')\n",
    "\n",
    "\n",
    "training_error=1.0 - mlp.score(X_train,y_train)\n",
    "test_error=1.0 - mlp.score(X_test,y_test)\n",
    "\n",
    "print (\"Best NN training error: %f\" % training_error)\n",
    "print (\"Best NN test error: %f\" % test_error)\n",
    "\n",
    "#ADD YOUR CODE FOR PLOTTING"
   ]
  },
  {
   "cell_type": "markdown",
   "metadata": {},
   "source": [
    "## More data \n",
    "Now let's do the same but using 4000 (or less if it takes too long on your machine) data points for training. Use the same NN architecture as before, but you can try more if you like and have a powerful computer!!"
   ]
  },
  {
   "cell_type": "code",
   "execution_count": 17,
   "metadata": {},
   "outputs": [
    {
     "name": "stdout",
     "output_type": "stream",
     "text": [
      "Labels in training dataset:  [0 1 2 3 4 5 6 7 8 9]\n",
      "Frequencies in training dataset:  [2039 1975 2012 1981 1992 1932 2033 1963 1997 2076]\n"
     ]
    }
   ],
   "source": [
    "X = X[permutation]\n",
    "y = y[permutation]\n",
    "\n",
    "m_training = 20000\n",
    "\n",
    "X_train, X_test = X[:m_training], X[m_training:]\n",
    "y_train, y_test = y[:m_training], y[m_training:]\n",
    "\n",
    "labels, freqs = np.unique(y_train, return_counts=True)\n",
    "print(\"Labels in training dataset: \", labels)\n",
    "print(\"Frequencies in training dataset: \", freqs)"
   ]
  },
  {
   "cell_type": "markdown",
   "metadata": {},
   "source": [
    "### TO DO 6\n",
    "\n",
    "Now train the NNs with the added data points using the optimum parameters found above. Eventually, feel free to try different architectures if you like. We suggest that you use 'verbose=True' so have an idea of how long it takes to run 1 iteration (eventually reduce also the number of iterations to 50)."
   ]
  },
  {
   "cell_type": "code",
   "execution_count": 18,
   "metadata": {},
   "outputs": [
    {
     "name": "stdout",
     "output_type": "stream",
     "text": [
      "\n",
      "RESULTS FOR BEST NN\n",
      "\n",
      "Best NN training error: 0.001000\n",
      "Best NN test error: 0.095175\n"
     ]
    },
    {
     "data": {
      "image/png": "[encoded data removed]",
      "text/plain": [
       "<Figure size 432x288 with 1 Axes>"
      ]
     },
     "metadata": {
      "needs_background": "light"
     },
     "output_type": "display_data"
    }
   ],
   "source": [
    "# use best architecture and params from before\n",
    "\n",
    "mlp_large = MLPClassifier(max_iter=100, alpha=1e-4, solver='sgd',\n",
    "                    tol=1e-4, random_state=ID,\n",
    "                    hidden_layer_sizes=best_layer_sizes,batch_size=best_batch_size,\n",
    "                    learning_rate_init = best_learning_rate_init, verbose=False)\n",
    "    \n",
    "mlp_large.fit(X_train, y_train)\n",
    "\n",
    "loss = mlp_large.loss_curve_\n",
    "\n",
    "plt.plot(loss,label='HLS='+str(best_layer_sizes)+', BS='+str(best_batch_size)+', LR='+str(best_learning_rate_init))\n",
    "\n",
    "print ('\\nRESULTS FOR BEST NN\\n')\n",
    "\n",
    "\n",
    "training_error=1.0 - mlp_large.score(X_train,y_train)\n",
    "test_error=1.0 - mlp_large.score(X_test,y_test)\n",
    "\n",
    "print (\"Best NN training error: %f\" % training_error)\n",
    "print (\"Best NN test error: %f\" % test_error)\n"
   ]
  },
  {
   "cell_type": "markdown",
   "metadata": {},
   "source": [
    "## QUESTION 4\n",
    "Compare the train and test error you got with a large number of samples with the best one you obtained with only 600 data points. Comment about the results you obtained."
   ]
  },
  {
   "cell_type": "markdown",
   "metadata": {},
   "source": [
    "#### [ANSWER TO QUESTION 4]\n",
    "When the larger number of samples (20'000) is used to train the network, a much better result is obtained from the point of view of the test error, with a gain of 15%. This is a known fact: the more samples the better it is. From the point of view of the training error, a much smaller variation is found between the two cases. "
   ]
  },
  {
   "cell_type": "markdown",
   "metadata": {},
   "source": [
    "### TO DO 7\n",
    "\n",
    "Plot an example that was missclassified by NN with m=600 training data points and it is now instead correctly classified by NN with m=4000 training data points."
   ]
  },
  {
   "cell_type": "code",
   "execution_count": 19,
   "metadata": {},
   "outputs": [
    {
     "name": "stdout",
     "output_type": "stream",
     "text": [
      "NN_prediction 3\n",
      "large_NN_prediction 5\n",
      "\n",
      "True  Label\n",
      "INPUT:\n"
     ]
    },
    {
     "data": {
      "image/png": "[encoded data removed]",
      "text/plain": [
       "<Figure size 432x288 with 1 Axes>"
      ]
     },
     "metadata": {
      "needs_background": "light"
     },
     "output_type": "display_data"
    },
    {
     "name": "stdout",
     "output_type": "stream",
     "text": [
      "LABEL: 5\n"
     ]
    }
   ],
   "source": [
    "X = X[permutation]\n",
    "y = y[permutation]\n",
    "\n",
    "m_training = 600\n",
    "\n",
    "X_train_small, X_test_small = X[:m_training], X[m_training:]\n",
    "y_train_small, y_test_small = y[:m_training], y[m_training:]\n",
    "\n",
    "mlp = MLPClassifier(max_iter=100, alpha=1e-4, solver='sgd',\n",
    "                    tol=1e-4, random_state=ID,\n",
    "                    hidden_layer_sizes=best_layer_sizes,batch_size=best_batch_size,\n",
    "                    learning_rate_init = best_learning_rate_init)\n",
    "    \n",
    "mlp.fit(X_train_small, y_train_small)\n",
    "\n",
    "NN_prediction = mlp.predict(X_train_small)\n",
    "\n",
    "\n",
    "m_training = 20000\n",
    "\n",
    "X_train_large, X_test_large = X[:m_training], X[m_training:]\n",
    "y_train_large, y_test_large = y[:m_training], y[m_training:]\n",
    "\n",
    "mlp_large = MLPClassifier(max_iter=100, alpha=1e-4, solver='sgd',\n",
    "                    tol=1e-4, random_state=ID,\n",
    "                    hidden_layer_sizes=best_layer_sizes,batch_size=best_batch_size,\n",
    "                    learning_rate_init = best_learning_rate_init)\n",
    "    \n",
    "mlp_large.fit(X_train_large, y_train_large)\n",
    "\n",
    "large_NN_prediction = mlp_large.predict(X_train_large)\n",
    "\n",
    "for ii in range(len(y_train_small)):\n",
    "    if y_train_small[ii] != NN_prediction[ii] and y_train_large[ii] == large_NN_prediction[ii]:  \n",
    "        print(f'NN_prediction {NN_prediction[ii]}')\n",
    "        print(f'large_NN_prediction {large_NN_prediction[ii]}')\n",
    "        print('\\nTrue  Label')\n",
    "        plot_input(X_train_small, y_train_small, ii)\n",
    "        break\n",
    "        \n",
    "#ADD YOUR CODE\n",
    "        "
   ]
  },
  {
   "cell_type": "markdown",
   "metadata": {},
   "source": [
    "### TO DO 8\n",
    "\n",
    "Let's plot the weigths of the multi-layer perceptron classifier, for the best NN we get with 600 data points and with 4000 data points. The code is already provided, just fix variable names (e.g., replace mlp , mlp_large with your estimators) in order to have it working with your implementation\n",
    "\n"
   ]
  },
  {
   "cell_type": "code",
   "execution_count": 20,
   "metadata": {},
   "outputs": [
    {
     "name": "stdout",
     "output_type": "stream",
     "text": [
      "Weights with 600 data points:\n"
     ]
    },
    {
     "data": {
      "image/png": "[encoded data removed]",
      "text/plain": [
       "<Figure size 432x288 with 16 Axes>"
      ]
     },
     "metadata": {},
     "output_type": "display_data"
    },
    {
     "name": "stdout",
     "output_type": "stream",
     "text": [
      "Weights with 20000 data points:\n"
     ]
    },
    {
     "data": {
      "image/png": "[encoded data removed]",
      "text/plain": [
       "<Figure size 432x288 with 16 Axes>"
      ]
     },
     "metadata": {},
     "output_type": "display_data"
    }
   ],
   "source": [
    "print(\"Weights with 600 data points:\")\n",
    "\n",
    "fig, axes = plt.subplots(4, 4)\n",
    "vmin, vmax = mlp.coefs_[0].min(), mlp.coefs_[0].max()\n",
    "for coef, ax in zip(mlp.coefs_[0].T, axes.ravel()):\n",
    "    ax.matshow(coef.reshape(28, 28), cmap=plt.cm.gray, vmin=.5 * vmin,\n",
    "               vmax=.5 * vmax)\n",
    "    ax.set_xticks(())\n",
    "    ax.set_yticks(())\n",
    "\n",
    "plt.show()\n",
    "\n",
    "print(\"Weights with 20000 data points:\")\n",
    "\n",
    "fig, axes = plt.subplots(4, 4)\n",
    "vmin, vmax = mlp_large.coefs_[0].min(), mlp_large.coefs_[0].max()\n",
    "for coef, ax in zip(mlp_large.coefs_[0].T, axes.ravel()):\n",
    "    ax.matshow(coef.reshape(28, 28), cmap=plt.cm.gray, vmin=.5 * vmin,\n",
    "               vmax=.5 * vmax)\n",
    "    ax.set_xticks(())\n",
    "    ax.set_yticks(())\n",
    "plt.show()"
   ]
  },
  {
   "cell_type": "markdown",
   "metadata": {},
   "source": [
    "## QUESTION 5\n",
    "\n",
    "Describe what do you observe by looking at the weights."
   ]
  },
  {
   "cell_type": "markdown",
   "metadata": {},
   "source": [
    "##### [ANSWER TO QUESTION 5]\n",
    "From the case of 20000 data points, the most probable observation by looking at the weights is that there is the formation of stronger patterns and it starts to be easier to discriminate between the weight maps since they show peculiarities. In the case of small number of samples instead the maps are pretty similar one to each other, and patterns much less underlined. "
   ]
  },
  {
   "cell_type": "markdown",
   "metadata": {},
   "source": [
    "### TO DO 9\n",
    "\n",
    "Take the best SVM model and its parameters, you found in the last notebook. Fit it on a few data points and compute its training and test scores. Then fit also a logistic regression model with C=1. "
   ]
  },
  {
   "cell_type": "code",
   "execution_count": 21,
   "metadata": {},
   "outputs": [
    {
     "name": "stdout",
     "output_type": "stream",
     "text": [
      "RESULTS FOR SVM\n",
      "Best SVM training error: 0.000150\n",
      "Best SVM test error: 0.044900\n"
     ]
    }
   ],
   "source": [
    "m_training = 20000\n",
    "\n",
    "X_train, X_test = X[:m_training], X[m_training:2*m_training]\n",
    "y_train, y_test = y[:m_training], y[m_training:2*m_training]\n",
    "\n",
    "# use best parameters found in the SVM notebook, create SVM and perform fitting\n",
    "\n",
    "#ADD YOUR CODE\n",
    "\n",
    "best_SVM = SVC(kernel='rbf', C=7, gamma=0.01)\n",
    "\n",
    "best_SVM.fit(X_train,y_train)\n",
    "\n",
    "training_error= 1.0 - best_SVM.score(X_train,y_train)\n",
    "\n",
    "test_error= 1.0 - best_SVM.score(X_test,y_test)\n",
    "print ('RESULTS FOR SVM')\n",
    "print (\"Best SVM training error: %f\" % training_error)\n",
    "print (\"Best SVM test error: %f\" % test_error)"
   ]
  },
  {
   "cell_type": "code",
   "execution_count": 22,
   "metadata": {},
   "outputs": [
    {
     "name": "stdout",
     "output_type": "stream",
     "text": [
      "\n",
      "RESULTS FOR LOGISTIC REGRESSION WITH REGULARIZATION\n",
      "Best logistic regression training error: 0.120550\n",
      "Best logistic regression test error: 0.206600\n"
     ]
    }
   ],
   "source": [
    "from sklearn import linear_model\n",
    "\n",
    "#regL2 = #ADD YOUR CODE\n",
    "\n",
    "# you can re-use your code from Lab 2\n",
    "\n",
    "#ADD YOUR CODE\n",
    "\n",
    "logreg = linear_model.LogisticRegression(C=1,fit_intercept=True,max_iter=3000)\n",
    "logreg.fit(X_train,y_train)\n",
    "training_error= 1.0 - logreg.score(X_train,y_train)\n",
    "test_error= 1.0 - logreg.score(X_test,y_test)\n",
    "\n",
    "print ('\\nRESULTS FOR LOGISTIC REGRESSION WITH REGULARIZATION')\n",
    "\n",
    "print (\"Best logistic regression training error: %f\" % training_error)\n",
    "print (\"Best logistic regression test error: %f\" % test_error)"
   ]
  },
  {
   "cell_type": "markdown",
   "metadata": {},
   "source": [
    "## QUESTION 6\n",
    "Compare the results of Logistic Regression, SVM and NN. Which one achieve the best results? "
   ]
  },
  {
   "cell_type": "markdown",
   "metadata": {},
   "source": [
    "###### [ANSWER TO QUESTION 6]\n",
    "Reporting here all the results for comparison (all ran with 20000 samples for equity)<br>\n",
    "<br>\n",
    "RESULTS FOR BEST NN<br>\n",
    "Best NN training error: 0.001000<br>\n",
    "Best NN test error: 0.095175<br>\n",
    "<br>\n",
    "RESULTS FOR SVM<br>\n",
    "RESULTS FOR SVM<br>\n",
    "Best SVM training error: 0.000150<br>\n",
    "Best SVM test error: 0.044900<br>\n",
    "<br>\n",
    "RESULTS FOR LOGISTIC REGRESSION WITH REGULARIZATION<br>\n",
    "Best logistic regression training error: 0.120550<br>\n",
    "Best logistic regression test error: 0.206600<br>\n",
    "<br>\n",
    "<br>\n",
    "As expected and seen during the lectures, SVM is able to outperform NN, in this case by a 5%. The worst is the Logistic Regression, which of course is much less powerful and flexible having a strong prior.\n"
   ]
  },
  {
   "cell_type": "code",
   "execution_count": null,
   "metadata": {},
   "outputs": [],
   "source": []
  }
 ],
 "metadata": {
  "kernelspec": {
   "display_name": "Python 3 (ipykernel)",
   "language": "python",
   "name": "python3"
  },
  "language_info": {
   "codemirror_mode": {
    "name": "ipython",
    "version": 3
   },
   "file_extension": ".py",
   "mimetype": "text/x-python",
   "name": "python",
   "nbconvert_exporter": "python",
   "pygments_lexer": "ipython3",
   "version": "3.8.8"
  }
 },
 "nbformat": 4,
 "nbformat_minor": 4
}
